{
  "metadata": {
    "kernelspec": {
      "name": "python",
      "display_name": "Pyolite",
      "language": "python"
    },
    "language_info": {
      "codemirror_mode": {
        "name": "python",
        "version": 3
      },
      "file_extension": ".py",
      "mimetype": "text/x-python",
      "name": "python",
      "nbconvert_exporter": "python",
      "pygments_lexer": "ipython3",
      "version": "3.8"
    }
  },
  "nbformat_minor": 4,
  "nbformat": 4,
  "cells": [
    {
      "cell_type": "markdown",
      "source": "# Python Execution Sequence \n\n \nPython code works sequentially. There are ways to get around the sequential execution using conditional statements or loop executions as seen in this lecture. \n\n",
      "metadata": {}
    },
    {
      "cell_type": "markdown",
      "source": "## Conditional Statements - if/else/elsif \nConditional statements check the conditions to follow different code path.\n\n**if < condition > :**\n\n    < statement >\n    \n**elif < condition > :**\n\n    < statement >\n    \n**else :**\n\n    < statement >",
      "metadata": {
        "jupyter": {
          "source_hidden": true
        }
      }
    },
    {
      "cell_type": "code",
      "source": "#simple if condition\n\nif 178 < 2e2:\n    print('First one is greater!')",
      "metadata": {},
      "execution_count": 23,
      "outputs": [
        {
          "name": "stdout",
          "output_type": "stream",
          "text": "First one is greater!\n"
        }
      ]
    },
    {
      "cell_type": "code",
      "source": "# if - else condition\nif 13 > 432:\n    print('First is greater than second')\nelse:\n    print('Second is greater than first')",
      "metadata": {
        "scrolled": true
      },
      "execution_count": 28,
      "outputs": [
        {
          "name": "stdout",
          "output_type": "stream",
          "text": "Second is greater than first\n"
        }
      ]
    },
    {
      "cell_type": "code",
      "source": "#if else elif condition.\nif 1 == 2:\n    print('first')\nelif 3 == 3:\n    print('middle')\nelse:\n    print('Last')\n",
      "metadata": {},
      "execution_count": 29,
      "outputs": [
        {
          "name": "stdout",
          "output_type": "stream",
          "text": "middle\n"
        }
      ]
    },
    {
      "cell_type": "code",
      "source": "# Could compare multiple options with \"in\" a list\nname = \"John\"\nif name in [\"John\", \"Rick\"]:\n    print(\"Your name is either John or Rick.\")",
      "metadata": {},
      "execution_count": 22,
      "outputs": [
        {
          "name": "stdout",
          "output_type": "stream",
          "text": "Your name is either John or Rick.\n"
        }
      ]
    },
    {
      "cell_type": "code",
      "source": "# 'is' operator compares instance instead of value\nx = [1,2,3]\ny = [1,2,3]\nprint(x == y) # Prints out True\nif(x is y): # Prints out False\n    print(\"Same Instance\")\nelse:\n    print(\"Different Instances\")\n    ",
      "metadata": {
        "scrolled": true
      },
      "execution_count": 33,
      "outputs": [
        {
          "name": "stdout",
          "output_type": "stream",
          "text": "True\n\nDifferent Instances\n"
        }
      ]
    },
    {
      "cell_type": "markdown",
      "source": "<html> <h3 style=\"font-style:italic; color:#FF0000;\"> Try Out: Change the variables in the first section, so that each if statement resolves as True.</h3> </html>",
      "metadata": {}
    },
    {
      "cell_type": "code",
      "source": "# change this code\nnumber = 10\nsecond_number = 10\nfirst_array = []\nsecond_array = [1,2,3]\n\nif number > 15:\n    print(\"1\")\n\nif first_array:\n    print(\"2\")\n\nif len(second_array) == 2:\n    print(\"3\")\n\nif len(first_array) + len(second_array) == 5:\n    print(\"4\")\n\nif first_array and first_array[0] == 1:\n    print(\"5\")\n\nif not second_number:\n    print(\"6\")",
      "metadata": {},
      "execution_count": 26,
      "outputs": []
    },
    {
      "cell_type": "markdown",
      "source": "## Loops or Iterations\n\nLoops are an integral part of any programming language. Python loops are simple and easily comprehesible. Loop operators like the for and while loops are important to iterate through a bug set of data on which same repeated operations have to be performed. \n\n### for loop\n\nFor loop is when there is a starting and ending points. \n\n### while loop\n\nwhile loop goes on till the condition to run the loop is satisfied,\n\n### Continue \n\nUseful to skip certain iterations of the loop\n\n### Break\n\noperator to break a loop\n\n### range () \n\nCreates a range of numbers...\n\n***range(start, stop, step)***\n\nAll three parameters are optional. Start included and stop excluded.",
      "metadata": {}
    },
    {
      "cell_type": "code",
      "source": "# For loop\nicecream = [12,42,54,23]\nfor jelly in icecream:\n    print(jelly+jelly)",
      "metadata": {
        "scrolled": true
      },
      "execution_count": 30,
      "outputs": [
        {
          "name": "stdout",
          "output_type": "stream",
          "text": "24\n\n84\n\n108\n\n46\n"
        }
      ]
    },
    {
      "cell_type": "code",
      "source": "primes = [2, 3, 5, 7]\nfor prime in primes:\n    print(prime)",
      "metadata": {},
      "execution_count": 1,
      "outputs": [
        {
          "name": "stdout",
          "output_type": "stream",
          "text": "2\n\n3\n\n5\n\n7\n"
        }
      ]
    },
    {
      "cell_type": "code",
      "source": "# Show only the content of the iterator element instead o a list.\nfor i in range(4):\n    print(i)",
      "metadata": {},
      "execution_count": 4,
      "outputs": [
        {
          "name": "stdout",
          "output_type": "stream",
          "text": "0\n\n1\n\n2\n\n3\n"
        }
      ]
    },
    {
      "cell_type": "code",
      "source": "# range() is an iterator you can't print the list directly\nprint(range(4))",
      "metadata": {},
      "execution_count": 1,
      "outputs": [
        {
          "name": "stdout",
          "output_type": "stream",
          "text": "range(0, 4)\n"
        }
      ]
    },
    {
      "cell_type": "code",
      "source": "\n# Prints out 3,4,5\nfor x in range(3, 6):\n    print(x)\n",
      "metadata": {},
      "execution_count": 12,
      "outputs": [
        {
          "name": "stdout",
          "output_type": "stream",
          "text": "3\n\n4\n\n5\n"
        }
      ]
    },
    {
      "cell_type": "code",
      "source": "\n# Prints out 3,5,7\nfor x in range(3, 8, 2):\n    print(x)",
      "metadata": {},
      "execution_count": 3,
      "outputs": [
        {
          "name": "stdout",
          "output_type": "stream",
          "text": "3\n\n5\n\n7\n"
        }
      ]
    },
    {
      "cell_type": "code",
      "source": "# while loop\ni = 1\nwhile i < 5:\n    print('i is: {}'.format(i))\n    i = i+1",
      "metadata": {},
      "execution_count": 34,
      "outputs": [
        {
          "name": "stdout",
          "output_type": "stream",
          "text": "i is: 1\n\ni is: 2\n\ni is: 3\n\ni is: 4\n"
        }
      ]
    },
    {
      "cell_type": "code",
      "source": "# while loop to print out 0,1,2,3,4\n\ncount = 0\nwhile count < 5:\n    print(count)\n    count += 1  # This is the same as count = count + 1",
      "metadata": {},
      "execution_count": 13,
      "outputs": [
        {
          "name": "stdout",
          "output_type": "stream",
          "text": "0\n\n1\n\n2\n\n3\n\n4\n"
        }
      ]
    },
    {
      "cell_type": "code",
      "source": "# break condition to print out 0,1,2,3,4\n\ncount = 0\nwhile True:\n    print(count)\n    count += 1\n    if count >= 5:\n        break\n\n",
      "metadata": {},
      "execution_count": 16,
      "outputs": [
        {
          "name": "stdout",
          "output_type": "stream",
          "text": "0\n\n1\n\n2\n\n3\n\n4\n"
        }
      ]
    },
    {
      "cell_type": "code",
      "source": "# continue skips even numbers prints out only odd numbers - 1,3,5,7,9\nfor x in range(10):\n    # Check if x is even\n    if x % 2 == 0:\n        continue\n    print(x)",
      "metadata": {},
      "execution_count": 17,
      "outputs": [
        {
          "name": "stdout",
          "output_type": "stream",
          "text": "1\n\n3\n\n5\n\n7\n\n9\n"
        }
      ]
    },
    {
      "cell_type": "code",
      "source": "# Special else case with while and for loops... \n# Prints out 0,1,2,3,4 and then it prints \"count value reached 5\"\n\ncount=0\nwhile(count<5):\n    print(count)\n    count +=1\nelse:\n    print(\"count value reached %d\" %(count))\n\n",
      "metadata": {},
      "execution_count": 15,
      "outputs": [
        {
          "name": "stdout",
          "output_type": "stream",
          "text": "0\n\n1\n\n2\n\n3\n\n4\n\ncount value reached 5\n"
        }
      ]
    },
    {
      "cell_type": "code",
      "source": "# Prints out 1,2,3,4\nfor i in range(1, 10):\n    if(i%5==0):\n        break\n    print(i)\nelse:\n    print(\"this is not printed because for loop is terminated \\\n          because of break but not due to fail in condition\")",
      "metadata": {
        "scrolled": true
      },
      "execution_count": 14,
      "outputs": [
        {
          "name": "stdout",
          "output_type": "stream",
          "text": "1\n\n2\n\n3\n\n4\n"
        }
      ]
    },
    {
      "cell_type": "code",
      "source": "# DO NOT RUN THIS CODE!!!! \nwhile True:\n    print(\"I'm stuck in an infinite loop!\")",
      "metadata": {},
      "execution_count": null,
      "outputs": []
    },
    {
      "cell_type": "markdown",
      "source": "A quick note: If you **did** run the above cell, click on the Kernel menu above to restart the kernel!",
      "metadata": {}
    },
    {
      "cell_type": "code",
      "source": "",
      "metadata": {},
      "execution_count": null,
      "outputs": []
    },
    {
      "cell_type": "markdown",
      "source": "<html> <h3 style=\"font-style:italic; color:#FF0000;\"> Try Out: Loop through and print out all even numbers from the numbers list in the same order they are received. Don't print any numbers that come after 237 in the sequence.</h3> </html>",
      "metadata": {}
    },
    {
      "cell_type": "code",
      "source": "numbers = [\n    951, 402, 984, 651, 360, 69, 408, 319, 601, 485, 980, 507, 725, 547, 544,\n    615, 83, 165, 141, 501, 263, 617, 865, 575, 219, 390, 984, 592, 236, 105, \n    942, 941, 386, 462, 47, 418, 907, 344, 236, 375, 823, 566, 597, 978, 328, \n    615, 953, 345, 399, 162, 758, 219, 918, 237, 412, 566, 826, 248, 866, 950, \n    626, 949, 687, 217, 815, 67, 104, 58, 512, 24, 892, 894, 767, 553, 81, 379, \n    843, 831, 445, 742, 717, 958, 609, 842, 451, 688, 753, 854, 685, 93, 857, \n    440, 380, 126, 721, 328, 753, 470, 743, 527\n]\n\n# your code goes here\n",
      "metadata": {},
      "execution_count": 20,
      "outputs": []
    },
    {
      "cell_type": "markdown",
      "source": "<html> <h3 style=\"font-style:italic; color:#FF0000;\"> Try Out: Loop through and print out all even numbers from the numbers list in the same order they are received. Don't print any numbers that come after 237 in the sequence.Try using the \"while\" loop this time if you have used \"for\" loop before or viceversa.</h3> </html>",
      "metadata": {}
    },
    {
      "cell_type": "code",
      "source": "numbers = [\n    951, 402, 984, 651, 360, 69, 408, 319, 601, 485, 980, 507, 725, 547, 544,\n    615, 83, 165, 141, 501, 263, 617, 865, 575, 219, 390, 984, 592, 236, 105, \n    942, 941, 386, 462, 47, 418, 907, 344, 236, 375, 823, 566, 597, 978, 328, \n    615, 953, 345, 399, 162, 758, 219, 918, 237, 412, 566, 826, 248, 866, 950, \n    626, 949, 687, 217, 815, 67, 104, 58, 512, 24, 892, 894, 767, 553, 81, 379, \n    843, 831, 445, 742, 717, 958, 609, 842, 451, 688, 753, 854, 685, 93, 857, \n    440, 380, 126, 721, 328, 753, 470, 743, 527\n]\n\n# your code goes here\n\n",
      "metadata": {},
      "execution_count": 63,
      "outputs": []
    },
    {
      "cell_type": "markdown",
      "source": "<html> <h3 style=\"font-style:italic; color:#FF0000;\"> Try out: Guessing Game Challenge \n    \n\nThe Challenge:\n\nWrite a program that picks a random integer from 1 to 100, and has players guess the number. The rules are:\n\n\n\nIf a player's guess is less than 1 or greater than 100, say \"OUT OF BOUNDS\" \n\nOn a player's first turn, if their guess is within 10 of the number, return \"WARM!\"\n\nfurther than 10 away from the number, return \"COLD!\"\n\n\nOn all subsequent turns, if a guess is closer to the number than the previous guess return \"WARMER!\"\n\nfarther from the number than the previous guess, return \"COLDER!\"\n\nWhen the player's guess equals the number, tell them they've guessed correctly and how many guesses it took!</h3> </html>\n\nHint: Let's use while loops to create a guessing game.",
      "metadata": {}
    },
    {
      "cell_type": "code",
      "source": "",
      "metadata": {},
      "execution_count": null,
      "outputs": []
    }
  ]
}