{
  "metadata": {
    "kernelspec": {
      "name": "python",
      "display_name": "Pyolite",
      "language": "python"
    },
    "language_info": {
      "codemirror_mode": {
        "name": "python",
        "version": 3
      },
      "file_extension": ".py",
      "mimetype": "text/x-python",
      "name": "python",
      "nbconvert_exporter": "python",
      "pygments_lexer": "ipython3",
      "version": "3.8"
    }
  },
  "nbformat_minor": 4,
  "nbformat": 4,
  "cells": [
    {
      "cell_type": "markdown",
      "source": "## List comprehension\nList comprehension makes the operations on the object of lists simpler.\nList Comprehensions is a very powerful tool, which creates a new list based on another list, in a single, readable line.",
      "metadata": {}
    },
    {
      "cell_type": "code",
      "source": "#Create a new list with the square of the elements in the input list x. \nx = [1,2,3,4]",
      "metadata": {
        "collapsed": true,
        "jupyter": {
          "outputs_hidden": true
        }
      },
      "execution_count": 69,
      "outputs": []
    },
    {
      "cell_type": "code",
      "source": "# simple for loop method\nout = []\nfor item in x:\n    out.append(item**2)\nprint(out)",
      "metadata": {},
      "execution_count": 70,
      "outputs": [
        {
          "name": "stdout",
          "output_type": "stream",
          "text": "[1, 4, 9, 16]\n"
        }
      ]
    },
    {
      "cell_type": "code",
      "source": "#with list comprehension!\n[item**2 for item in x]",
      "metadata": {},
      "execution_count": 71,
      "outputs": [
        {
          "execution_count": 71,
          "output_type": "execute_result",
          "data": {
            "text/plain": [
              "[1, 4, 9, 16]"
            ]
          },
          "metadata": {}
        }
      ]
    },
    {
      "cell_type": "markdown",
      "source": "***Can also do more complicated arithmetic:***",
      "metadata": {}
    },
    {
      "cell_type": "code",
      "source": "# Convert Celsius to Fahrenheit\ncelsius = [0,10,20.1,34.5]\n\nfahrenheit = [((9/5)*temp + 32) for temp in celsius ]\n\nfahrenheit",
      "metadata": {},
      "execution_count": 7,
      "outputs": [
        {
          "execution_count": 7,
          "output_type": "execute_result",
          "data": {
            "text/plain": [
              "[32.0, 50.0, 68.18, 94.1]"
            ]
          },
          "metadata": {}
        }
      ]
    },
    {
      "cell_type": "markdown",
      "source": "***We can also perform nested list comprehensions, for example:***",
      "metadata": {}
    },
    {
      "cell_type": "code",
      "source": "lst = [ x**2 for x in [x**2 for x in range(11)]]\nlst",
      "metadata": {},
      "execution_count": 8,
      "outputs": [
        {
          "execution_count": 8,
          "output_type": "execute_result",
          "data": {
            "text/plain": [
              "[0, 1, 16, 81, 256, 625, 1296, 2401, 4096, 6561, 10000]"
            ]
          },
          "metadata": {}
        }
      ]
    },
    {
      "cell_type": "markdown",
      "source": "***Another example, let's say we need to create a list of integers which specify the length of each word in a certain sentence, but only if the word is not the word \"the\".***",
      "metadata": {}
    },
    {
      "cell_type": "code",
      "source": "#Use the split method to split into words based on space or other delimiters\n#Normal for loop\nsentence = \"the quick brown fox jumps over the lazy dog\"\nwords = sentence.split()\nword_lengths=[]\nfor word in words:\n      if word != \"the\":\n        word_lengths.append(len(word))  \nprint(words)\nprint(word_lengths)\n",
      "metadata": {
        "scrolled": true
      },
      "execution_count": 51,
      "outputs": [
        {
          "name": "stdout",
          "output_type": "stream",
          "text": "['the', 'quick', 'brown', 'fox', 'jumps', 'over', 'the', 'lazy', 'dog']\n\n[5, 5, 3, 5, 4, 4, 3]\n"
        }
      ]
    },
    {
      "cell_type": "code",
      "source": "# Same with list comprehension!\nsentence = \"the quick brown fox jumps over the lazy dog\"\nwords = sentence.split()\nword_lengths = [len(word) for word in words if word != \"the\"]\nprint(words)\nprint(word_lengths)",
      "metadata": {},
      "execution_count": 52,
      "outputs": [
        {
          "name": "stdout",
          "output_type": "stream",
          "text": "['the', 'quick', 'brown', 'fox', 'jumps', 'over', 'the', 'lazy', 'dog']\n\n[5, 5, 3, 5, 4, 4, 3]\n"
        }
      ]
    },
    {
      "cell_type": "markdown",
      "source": "<html> <h3 style=\"font-style:italic; color:#FF0000;\"> Try Out: Using a list comprehension, create a new list called \"newlist\" out of the list \"numbers\", which contains only the positive numbers from the list, as integers.</h3> </html>",
      "metadata": {}
    },
    {
      "cell_type": "code",
      "source": "numbers = [34.6, -203.4, 44.9, 68.3, -12.2, 44.6, 12.7]\n# your code goes here\n",
      "metadata": {},
      "execution_count": null,
      "outputs": []
    },
    {
      "cell_type": "markdown",
      "source": "<html> <h3 style=\"font-style:italic; color:#FF0000;\"> Try Out: Loop through and print out all even numbers from the numbers list in the same order they are received. Don't print any numbers that come after 237 in the sequence.Try using the list comprehension this time.</h3> </html>",
      "metadata": {}
    },
    {
      "cell_type": "code",
      "source": "numbers = [\n    951, 402, 984, 651, 360, 69, 408, 319, 601, 485, 980, 507, 725, 547, 544,\n    615, 83, 165, 141, 501, 263, 617, 865, 575, 219, 390, 984, 592, 236, 105, \n    942, 941, 386, 462, 47, 418, 907, 344, 236, 375, 823, 566, 597, 978, 328, \n    615, 953, 345, 399, 162, 758, 219, 918, 237, 412, 566, 826, 248, 866, 950, \n    626, 949, 687, 217, 815, 67, 104, 58, 512, 24, 892, 894, 767, 553, 81, 379, \n    843, 831, 445, 742, 717, 958, 609, 842, 451, 688, 753, 854, 685, 93, 857, \n    440, 380, 126, 721, 328, 753, 470, 743, 527\n]\n\n# your code goes here\n\n",
      "metadata": {},
      "execution_count": 63,
      "outputs": []
    },
    {
      "cell_type": "markdown",
      "source": "<html> <h3 style=\"font-style:italic; color:#FF0000;\"> Try out: Use a List Comprehension to create a list of the first letters of every word in the string below:</h3> </html>",
      "metadata": {}
    },
    {
      "cell_type": "code",
      "source": "st = 'Create a list of the first letters of every word in this string'",
      "metadata": {},
      "execution_count": 7,
      "outputs": []
    },
    {
      "cell_type": "code",
      "source": "",
      "metadata": {},
      "execution_count": null,
      "outputs": []
    }
  ]
}