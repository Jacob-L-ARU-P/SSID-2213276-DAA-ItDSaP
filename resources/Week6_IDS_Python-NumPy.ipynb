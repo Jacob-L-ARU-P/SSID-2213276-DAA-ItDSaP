{
  "metadata": {
    "kernelspec": {
      "name": "python",
      "display_name": "Pyolite",
      "language": "python"
    },
    "language_info": {
      "codemirror_mode": {
        "name": "python",
        "version": 3
      },
      "file_extension": ".py",
      "mimetype": "text/x-python",
      "name": "python",
      "nbconvert_exporter": "python",
      "pygments_lexer": "ipython3",
      "version": "3.8"
    }
  },
  "nbformat_minor": 4,
  "nbformat": 4,
  "cells": [
    {
      "cell_type": "markdown",
      "source": "# NumPy \n\nThe main python library used in numerical data analysis is NumPy (or Numpy). It is a Linear Algebra Library for Python.  It is a very important library for Data Science with Python mainly because almost all of the libraries in the PyData Ecosystem rely on NumPy as one of their main building blocks.\n\nNumpy is also incredibly fast, as it has bindings to C libraries. For more info on why you would want to use Arrays instead of lists, check out this great [StackOverflow post](http://stackoverflow.com/questions/993984/why-numpy-instead-of-python-lists).\n\nThis library has vast functionalities. But this lecture gives only an introduction to Numpy. \nCheck out http://cs231n.github.io/python-numpy-tutorial/#numpy for some easy reference. Look up more official references at https://numpy.org/doc/stable/reference/",
      "metadata": {}
    },
    {
      "cell_type": "markdown",
      "source": "## Installating Numpy\n\n**It is highly recommended to install Python using the Anaconda distribution to make sure all underlying dependencies (such as Linear Algebra libraries) all sync up with the use of a conda install. If Anaconda is already installed, install NumPy using the following commands on the terminal or command prompt by typing:**\n    \n    conda install numpy\n    \n**In case there is any trouble installing anaconda, please refer to [Numpy's official documentation on various installation instructions.](http://docs.scipy.org/doc/numpy-1.10.1/user/install.html) for further help.**",
      "metadata": {}
    },
    {
      "cell_type": "markdown",
      "source": "## Importing NumPy\n\nLike any other python library, one needs to import numpy before using it as:",
      "metadata": {}
    },
    {
      "cell_type": "code",
      "source": "import numpy as np",
      "metadata": {},
      "execution_count": 3,
      "outputs": []
    },
    {
      "cell_type": "raw",
      "source": "Numpy has numerous built-in functions and capabilities. This lecture will focus on only some of the most important aspects of Numpy: \n- arrays,\n    - vectors - One dimensional arrays,\n    - matrices - Two dimensional arrays,\n- number generation, \n- Numpy operations\n\n",
      "metadata": {}
    },
    {
      "cell_type": "markdown",
      "source": "# Numpy Arrays\n\nA numpy array is a grid of values. The values in the array should all be of the same datatype, and is indexed by a tuple of nonnegative integers. Numpy arrays essentially come in two flavors: vectors and matrices. \n- Vectors are strictly 1-d arrays and \n- matrices are 2-d (a matrix can still have only one row or one column).\n\nThe number of dimensions is the rank of the array. The shape of an array is a tuple of integers giving the size of the array along each dimension. \n\nNumpy arrays can be intialised from nested Python lists, and the elements can be accessed using square brackets. \nNumPy arrays are the most commonly used feature of the Numpy library. Hence, arrays are focussed here in this lecture.\n\n\n## Creating NumPy Arrays\nThere are different ways to create a NumPy array.\n\n### Initialise with a Python List\n\nThe NumPy arrays can be created directly from a list or list of lists. ",
      "metadata": {}
    },
    {
      "cell_type": "code",
      "source": "#Create a list.\nmy_list = [100, 300, 500, 700, 900]\nmy_list",
      "metadata": {},
      "execution_count": 16,
      "outputs": [
        {
          "execution_count": 16,
          "output_type": "execute_result",
          "data": {
            "text/plain": [
              "[100, 300, 500, 700, 900]"
            ]
          },
          "metadata": {}
        }
      ]
    },
    {
      "cell_type": "code",
      "source": "#Use the list to initialise a numpy array.\nnp.array(my_list)",
      "metadata": {},
      "execution_count": 17,
      "outputs": [
        {
          "execution_count": 17,
          "output_type": "execute_result",
          "data": {
            "text/plain": [
              "array([100, 300, 500, 700, 900])"
            ]
          },
          "metadata": {}
        }
      ]
    },
    {
      "cell_type": "code",
      "source": "# Create a list of lists\nmy_matrix = [[1,2,3],[4,5,6],[7,8,9]]\nmy_matrix",
      "metadata": {},
      "execution_count": 18,
      "outputs": [
        {
          "execution_count": 18,
          "output_type": "execute_result",
          "data": {
            "text/plain": [
              "[[1, 2, 3], [4, 5, 6], [7, 8, 9]]"
            ]
          },
          "metadata": {}
        }
      ]
    },
    {
      "cell_type": "code",
      "source": "# Initalise the array with the list of lists.\nnp.array(my_matrix)",
      "metadata": {
        "scrolled": true
      },
      "execution_count": 19,
      "outputs": [
        {
          "execution_count": 19,
          "output_type": "execute_result",
          "data": {
            "text/plain": [
              "array([[1, 2, 3],\n",
              "       [4, 5, 6],\n",
              "       [7, 8, 9]])"
            ]
          },
          "metadata": {}
        }
      ]
    },
    {
      "cell_type": "markdown",
      "source": "## Python Built-in Methods \n\nNumPy arrays can be also be generated using in-built python methods. ",
      "metadata": {}
    },
    {
      "cell_type": "markdown",
      "source": "### arange\n\nThe arange() method is used to return an evenly spaced values within a given interval.\nThe method has the following parameters: \n- **start** parameter (inclusive in the sequence)  \n- **end** parameter (exclusive in the sequence)\n- **step size** (optional parameter used to find the next element in the sequence) \n",
      "metadata": {}
    },
    {
      "cell_type": "code",
      "source": "# Note the end item is excluded. \nnp.arange(100,110)",
      "metadata": {},
      "execution_count": 20,
      "outputs": [
        {
          "execution_count": 20,
          "output_type": "execute_result",
          "data": {
            "text/plain": [
              "array([100, 101, 102, 103, 104, 105, 106, 107, 108, 109])"
            ]
          },
          "metadata": {}
        }
      ]
    },
    {
      "cell_type": "code",
      "source": "# Using negative step factor gives a decreasing sequence.\nnp.arange(20,1,-2)",
      "metadata": {},
      "execution_count": 21,
      "outputs": [
        {
          "execution_count": 21,
          "output_type": "execute_result",
          "data": {
            "text/plain": [
              "array([20, 18, 16, 14, 12, 10,  8,  6,  4,  2])"
            ]
          },
          "metadata": {}
        }
      ]
    },
    {
      "cell_type": "markdown",
      "source": "### zeros and ones\n\nThere are in-build methods to generate arrays of zeros or ones",
      "metadata": {}
    },
    {
      "cell_type": "code",
      "source": "# Generate 1-d array of zeros\nnp.zeros(10)",
      "metadata": {},
      "execution_count": 22,
      "outputs": [
        {
          "execution_count": 22,
          "output_type": "execute_result",
          "data": {
            "text/plain": [
              "array([0., 0., 0., 0., 0., 0., 0., 0., 0., 0.])"
            ]
          },
          "metadata": {}
        }
      ]
    },
    {
      "cell_type": "code",
      "source": "# A 2-d array of zeros\nnp.zeros((3,3))",
      "metadata": {},
      "execution_count": 23,
      "outputs": [
        {
          "execution_count": 23,
          "output_type": "execute_result",
          "data": {
            "text/plain": [
              "array([[0., 0., 0.],\n",
              "       [0., 0., 0.],\n",
              "       [0., 0., 0.]])"
            ]
          },
          "metadata": {}
        }
      ]
    },
    {
      "cell_type": "code",
      "source": "# Generate the 1-d array of ones. \nnp.ones(5)",
      "metadata": {},
      "execution_count": 24,
      "outputs": [
        {
          "execution_count": 24,
          "output_type": "execute_result",
          "data": {
            "text/plain": [
              "array([1., 1., 1., 1., 1.])"
            ]
          },
          "metadata": {}
        }
      ]
    },
    {
      "cell_type": "code",
      "source": "# 2-d array of ones. \nnp.ones((5,3),dtype=int)",
      "metadata": {},
      "execution_count": 26,
      "outputs": [
        {
          "execution_count": 26,
          "output_type": "execute_result",
          "data": {
            "text/plain": [
              "array([[1, 1, 1],\n",
              "       [1, 1, 1],\n",
              "       [1, 1, 1],\n",
              "       [1, 1, 1],\n",
              "       [1, 1, 1]])"
            ]
          },
          "metadata": {}
        }
      ]
    },
    {
      "cell_type": "markdown",
      "source": "### linspace\nThis method will return evenly spaced numbers over a specified interval. The method returns **num** evenly spaced samples, calculated over the interval [start, stop].\n\nnumpy.linspace(start, stop, num=50, endpoint=True, retstep=False, dtype=None, axis=0) \n\nThe endpoint of the interval can optionally be excluded.",
      "metadata": {}
    },
    {
      "cell_type": "code",
      "source": "# Generate ten elements between 0 and 100\nnp.linspace(10,100,10)",
      "metadata": {},
      "execution_count": 27,
      "outputs": [
        {
          "execution_count": 27,
          "output_type": "execute_result",
          "data": {
            "text/plain": [
              "array([ 10.,  20.,  30.,  40.,  50.,  60.,  70.,  80.,  90., 100.])"
            ]
          },
          "metadata": {}
        }
      ]
    },
    {
      "cell_type": "code",
      "source": "# Method can be used to generate finer granular sequence\nnp.linspace(0,10,50)",
      "metadata": {},
      "execution_count": 28,
      "outputs": [
        {
          "execution_count": 28,
          "output_type": "execute_result",
          "data": {
            "text/plain": [
              "array([ 0.        ,  0.20408163,  0.40816327,  0.6122449 ,  0.81632653,\n",
              "        1.02040816,  1.2244898 ,  1.42857143,  1.63265306,  1.83673469,\n",
              "        2.04081633,  2.24489796,  2.44897959,  2.65306122,  2.85714286,\n",
              "        3.06122449,  3.26530612,  3.46938776,  3.67346939,  3.87755102,\n",
              "        4.08163265,  4.28571429,  4.48979592,  4.69387755,  4.89795918,\n",
              "        5.10204082,  5.30612245,  5.51020408,  5.71428571,  5.91836735,\n",
              "        6.12244898,  6.32653061,  6.53061224,  6.73469388,  6.93877551,\n",
              "        7.14285714,  7.34693878,  7.55102041,  7.75510204,  7.95918367,\n",
              "        8.16326531,  8.36734694,  8.57142857,  8.7755102 ,  8.97959184,\n",
              "        9.18367347,  9.3877551 ,  9.59183673,  9.79591837, 10.        ])"
            ]
          },
          "metadata": {}
        }
      ]
    },
    {
      "cell_type": "markdown",
      "source": "## eye\n\nThis is an method for creating an identity matrix. This returns a 2-D array with ones on the diagonal and zeros elsewhere. Takes only a single parameter which determines dimension of the square matrix.",
      "metadata": {}
    },
    {
      "cell_type": "code",
      "source": "# Create a Identity matrix of size 3X3\nnp.eye(3)",
      "metadata": {},
      "execution_count": 25,
      "outputs": [
        {
          "execution_count": 25,
          "output_type": "execute_result",
          "data": {
            "text/plain": [
              "array([[1., 0., 0.],\n",
              "       [0., 1., 0.],\n",
              "       [0., 0., 1.]])"
            ]
          },
          "metadata": {}
        }
      ]
    },
    {
      "cell_type": "markdown",
      "source": "## Random number array generator\n\nNumpy can also be used to generate random number arrays in different ways:\n\n### rand\nCreate an array of the given shape and populate it with random samples from a uniform distribution\nover ``[0, 1)``.\n",
      "metadata": {}
    },
    {
      "cell_type": "code",
      "source": "# Generate a random number array from uniform distribution in the interval [0,1].\nnp.random.rand(5)",
      "metadata": {},
      "execution_count": 29,
      "outputs": [
        {
          "execution_count": 29,
          "output_type": "execute_result",
          "data": {
            "text/plain": [
              "array([0.49427634, 0.07324475, 0.16004454, 0.43072425, 0.71650414])"
            ]
          },
          "metadata": {}
        }
      ]
    },
    {
      "cell_type": "code",
      "source": "# Generate a 2-d array of random numbers\nnp.random.rand(5,5)",
      "metadata": {},
      "execution_count": 30,
      "outputs": [
        {
          "execution_count": 30,
          "output_type": "execute_result",
          "data": {
            "text/plain": [
              "array([[0.39999597, 0.25078144, 0.72748554, 0.07167121, 0.72194979],\n",
              "       [0.70965716, 0.42935407, 0.84732461, 0.97137021, 0.97707771],\n",
              "       [0.57952056, 0.64676668, 0.08184656, 0.01800877, 0.80935485],\n",
              "       [0.01025258, 0.29819175, 0.90135212, 0.1828951 , 0.3903211 ],\n",
              "       [0.40701626, 0.29688642, 0.90071284, 0.99923898, 0.28203738]])"
            ]
          },
          "metadata": {}
        }
      ]
    },
    {
      "cell_type": "markdown",
      "source": "### randn\n\nUnlike rand which is uniform, randn() returns a sample (or samples) from the \"standard normal\" distribution. ",
      "metadata": {}
    },
    {
      "cell_type": "code",
      "source": "# Generates a 1-d random sequence from normal distribution.\nnp.random.randn(4)",
      "metadata": {},
      "execution_count": 27,
      "outputs": [
        {
          "execution_count": 27,
          "output_type": "execute_result",
          "data": {
            "text/plain": [
              "array([-1.05655066, -1.25846276, -0.37442948, -2.53389516])"
            ]
          },
          "metadata": {}
        }
      ]
    },
    {
      "cell_type": "code",
      "source": "# Generates a 2-d random array from a normal distribution.\nnp.random.randn(5,5)",
      "metadata": {},
      "execution_count": 45,
      "outputs": [
        {
          "execution_count": 45,
          "output_type": "execute_result",
          "data": {
            "text/plain": [
              "array([[ 0.70154515,  0.22441999,  1.33563186,  0.82872577, -0.28247509],\n",
              "       [ 0.64489788,  0.61815094, -0.81693168, -0.30102424, -0.29030574],\n",
              "       [ 0.8695976 ,  0.413755  ,  2.20047208,  0.17955692, -0.82159344],\n",
              "       [ 0.59264235,  1.29869894, -1.18870241,  0.11590888, -0.09181687],\n",
              "       [-0.96924265, -1.62888685, -2.05787102, -0.29705576,  0.68915542]])"
            ]
          },
          "metadata": {}
        }
      ]
    },
    {
      "cell_type": "markdown",
      "source": "### randint\nThis method can be used to generate one or more random integers between the interval\n - interval ranges from `low` (inclusive) to `high` (exclusive).\n ",
      "metadata": {}
    },
    {
      "cell_type": "code",
      "source": "# Generate a single random integer between 1 and 100. \nnp.random.randint(1,100)",
      "metadata": {},
      "execution_count": 32,
      "outputs": [
        {
          "execution_count": 32,
          "output_type": "execute_result",
          "data": {
            "text/plain": [
              "30"
            ]
          },
          "metadata": {}
        }
      ]
    },
    {
      "cell_type": "code",
      "source": "# Generate a sequence of random numbers between 1 and 100\nnp.random.randint(1,100,10)",
      "metadata": {
        "scrolled": true
      },
      "execution_count": 31,
      "outputs": [
        {
          "execution_count": 31,
          "output_type": "execute_result",
          "data": {
            "text/plain": [
              "array([81, 94, 11, 30, 31, 51, 73, 72, 96, 72])"
            ]
          },
          "metadata": {}
        }
      ]
    },
    {
      "cell_type": "markdown",
      "source": "<html> <h2 style=\"font-style:italic; color:#FF0000;\"> Try Out the following set of exercises based on your NumPy array knowledge. Sample output expected is shown in each case. </h2> </html>",
      "metadata": {}
    },
    {
      "cell_type": "markdown",
      "source": "#### Import NumPy as np",
      "metadata": {}
    },
    {
      "cell_type": "code",
      "source": "",
      "metadata": {},
      "execution_count": 1,
      "outputs": []
    },
    {
      "cell_type": "markdown",
      "source": "#### Create an array of 10 zeros ",
      "metadata": {}
    },
    {
      "cell_type": "code",
      "source": "",
      "metadata": {},
      "execution_count": 2,
      "outputs": [
        {
          "execution_count": 2,
          "output_type": "execute_result",
          "data": {
            "text/plain": [
              "array([0., 0., 0., 0., 0., 0., 0., 0., 0., 0.])"
            ]
          },
          "metadata": {}
        }
      ]
    },
    {
      "cell_type": "markdown",
      "source": "#### Create an array of 10 ones",
      "metadata": {}
    },
    {
      "cell_type": "code",
      "source": "",
      "metadata": {},
      "execution_count": 3,
      "outputs": [
        {
          "execution_count": 3,
          "output_type": "execute_result",
          "data": {
            "text/plain": [
              "array([1., 1., 1., 1., 1., 1., 1., 1., 1., 1.])"
            ]
          },
          "metadata": {}
        }
      ]
    },
    {
      "cell_type": "markdown",
      "source": "#### Create an array of 10 fives",
      "metadata": {}
    },
    {
      "cell_type": "code",
      "source": "",
      "metadata": {},
      "execution_count": 4,
      "outputs": [
        {
          "execution_count": 4,
          "output_type": "execute_result",
          "data": {
            "text/plain": [
              "array([5., 5., 5., 5., 5., 5., 5., 5., 5., 5.])"
            ]
          },
          "metadata": {}
        }
      ]
    },
    {
      "cell_type": "markdown",
      "source": "#### Create an array of the integers from 10 to 50",
      "metadata": {}
    },
    {
      "cell_type": "code",
      "source": "",
      "metadata": {},
      "execution_count": 5,
      "outputs": [
        {
          "execution_count": 5,
          "output_type": "execute_result",
          "data": {
            "text/plain": [
              "array([10, 11, 12, 13, 14, 15, 16, 17, 18, 19, 20, 21, 22, 23, 24, 25, 26,\n",
              "       27, 28, 29, 30, 31, 32, 33, 34, 35, 36, 37, 38, 39, 40, 41, 42, 43,\n",
              "       44, 45, 46, 47, 48, 49, 50])"
            ]
          },
          "metadata": {}
        }
      ]
    },
    {
      "cell_type": "markdown",
      "source": "#### Create an array of all the even integers from 10 to 50",
      "metadata": {}
    },
    {
      "cell_type": "code",
      "source": "",
      "metadata": {},
      "execution_count": 6,
      "outputs": [
        {
          "execution_count": 6,
          "output_type": "execute_result",
          "data": {
            "text/plain": [
              "array([10, 12, 14, 16, 18, 20, 22, 24, 26, 28, 30, 32, 34, 36, 38, 40, 42,\n",
              "       44, 46, 48, 50])"
            ]
          },
          "metadata": {}
        }
      ]
    },
    {
      "cell_type": "markdown",
      "source": "#### Create a 3x3 identity matrix",
      "metadata": {}
    },
    {
      "cell_type": "code",
      "source": "",
      "metadata": {
        "scrolled": true
      },
      "execution_count": 7,
      "outputs": [
        {
          "execution_count": 7,
          "output_type": "execute_result",
          "data": {
            "text/plain": [
              "array([[1., 0., 0.],\n",
              "       [0., 1., 0.],\n",
              "       [0., 0., 1.]])"
            ]
          },
          "metadata": {}
        }
      ]
    },
    {
      "cell_type": "markdown",
      "source": "#### Use NumPy to generate a random number between 0 and 1",
      "metadata": {}
    },
    {
      "cell_type": "code",
      "source": "",
      "metadata": {},
      "execution_count": 8,
      "outputs": [
        {
          "execution_count": 8,
          "output_type": "execute_result",
          "data": {
            "text/plain": [
              "0.6207161656839242"
            ]
          },
          "metadata": {}
        }
      ]
    },
    {
      "cell_type": "markdown",
      "source": "#### Use NumPy to generate an array of 25 random numbers sampled from a standard normal distribution",
      "metadata": {}
    },
    {
      "cell_type": "code",
      "source": "",
      "metadata": {},
      "execution_count": 9,
      "outputs": [
        {
          "execution_count": 9,
          "output_type": "execute_result",
          "data": {
            "text/plain": [
              "array([ 0.80576876,  1.59013915, -0.83058308, -0.43438662,  0.32082871,\n",
              "       -0.08545432, -2.38898797,  0.69319989, -1.33838304,  1.41138425,\n",
              "       -0.43161849,  0.46178273,  1.06786063,  0.99071981,  0.35362432,\n",
              "       -0.83075139, -1.82422782, -1.1244872 ,  0.00686246,  1.76708371,\n",
              "        1.34143708,  0.4603623 , -1.22070798, -1.73240446, -0.75053019])"
            ]
          },
          "metadata": {}
        }
      ]
    },
    {
      "cell_type": "markdown",
      "source": "#### Create an array of 20 linearly spaced points between 0 and 1:",
      "metadata": {}
    },
    {
      "cell_type": "code",
      "source": "",
      "metadata": {
        "scrolled": true
      },
      "execution_count": 10,
      "outputs": [
        {
          "execution_count": 10,
          "output_type": "execute_result",
          "data": {
            "text/plain": [
              "array([0.        , 0.05263158, 0.10526316, 0.15789474, 0.21052632,\n",
              "       0.26315789, 0.31578947, 0.36842105, 0.42105263, 0.47368421,\n",
              "       0.52631579, 0.57894737, 0.63157895, 0.68421053, 0.73684211,\n",
              "       0.78947368, 0.84210526, 0.89473684, 0.94736842, 1.        ])"
            ]
          },
          "metadata": {}
        }
      ]
    },
    {
      "cell_type": "markdown",
      "source": "*********************************************************************************************************************\n\n=====================================================================================================================",
      "metadata": {}
    },
    {
      "cell_type": "markdown",
      "source": "# Array Attributes and Methods\n\nNumPy arrays have a set of in-build attributes and methods. ",
      "metadata": {}
    },
    {
      "cell_type": "code",
      "source": "# Create two numpy arrays as examples. \narr = np.arange(50)\nranarr = np.random.randint(0,100,20)",
      "metadata": {},
      "execution_count": 34,
      "outputs": []
    },
    {
      "cell_type": "code",
      "source": "# 1-d array - vector\narr",
      "metadata": {},
      "execution_count": 35,
      "outputs": [
        {
          "execution_count": 35,
          "output_type": "execute_result",
          "data": {
            "text/plain": [
              "array([ 0,  1,  2,  3,  4,  5,  6,  7,  8,  9, 10, 11, 12, 13, 14, 15, 16,\n",
              "       17, 18, 19, 20, 21, 22, 23, 24, 25, 26, 27, 28, 29, 30, 31, 32, 33,\n",
              "       34, 35, 36, 37, 38, 39, 40, 41, 42, 43, 44, 45, 46, 47, 48, 49])"
            ]
          },
          "metadata": {}
        }
      ]
    },
    {
      "cell_type": "code",
      "source": "# 1-d array of random numbers\nranarr",
      "metadata": {},
      "execution_count": 36,
      "outputs": [
        {
          "execution_count": 36,
          "output_type": "execute_result",
          "data": {
            "text/plain": [
              "array([ 9, 53, 73, 81, 69, 30,  3, 28, 53, 37, 76,  1, 30,  3, 46, 25, 57,\n",
              "       88, 54, 89])"
            ]
          },
          "metadata": {}
        }
      ]
    },
    {
      "cell_type": "markdown",
      "source": "## Reshape\nThe shape (dimensions) of the array can be changed using the reshape() method\nThis returns an array containing the same data with a new shape.",
      "metadata": {}
    },
    {
      "cell_type": "code",
      "source": "# Convert the 50 element 1-d array into a 2-d array. \narr.reshape(5,10)",
      "metadata": {
        "scrolled": true
      },
      "execution_count": 43,
      "outputs": [
        {
          "execution_count": 43,
          "output_type": "execute_result",
          "data": {
            "text/plain": [
              "array([[ 0,  1,  2,  3,  4,  5,  6,  7,  8,  9],\n",
              "       [10, 11, 12, 13, 14, 15, 16, 17, 18, 19],\n",
              "       [20, 21, 22, 23, 24, 25, 26, 27, 28, 29],\n",
              "       [30, 31, 32, 33, 34, 35, 36, 37, 38, 39],\n",
              "       [40, 41, 42, 43, 44, 45, 46, 47, 48, 49]])"
            ]
          },
          "metadata": {}
        }
      ]
    },
    {
      "cell_type": "markdown",
      "source": "## max,min,argmax,argmin\n\nThese are useful methods for finding max or min values. Or to find their index locations using argmin or argmax",
      "metadata": {}
    },
    {
      "cell_type": "markdown",
      "source": "#### Create the following matrix:",
      "metadata": {}
    },
    {
      "cell_type": "code",
      "source": "# The created random array.\nranarr",
      "metadata": {},
      "execution_count": 38,
      "outputs": [
        {
          "execution_count": 38,
          "output_type": "execute_result",
          "data": {
            "text/plain": [
              "array([ 9, 53, 73, 81, 69, 30,  3, 28, 53, 37, 76,  1, 30,  3, 46, 25, 57,\n",
              "       88, 54, 89])"
            ]
          },
          "metadata": {}
        }
      ]
    },
    {
      "cell_type": "code",
      "source": "# Find the max value in the array\nranarr.max()",
      "metadata": {},
      "execution_count": 39,
      "outputs": [
        {
          "execution_count": 39,
          "output_type": "execute_result",
          "data": {
            "text/plain": [
              "89"
            ]
          },
          "metadata": {}
        }
      ]
    },
    {
      "cell_type": "code",
      "source": "# Find the index of the maximum value\nranarr.argmax()",
      "metadata": {},
      "execution_count": 40,
      "outputs": [
        {
          "execution_count": 40,
          "output_type": "execute_result",
          "data": {
            "text/plain": [
              "19"
            ]
          },
          "metadata": {}
        }
      ]
    },
    {
      "cell_type": "code",
      "source": "# Find the minimum value in the array\nranarr.min()",
      "metadata": {},
      "execution_count": 41,
      "outputs": [
        {
          "execution_count": 41,
          "output_type": "execute_result",
          "data": {
            "text/plain": [
              "1"
            ]
          },
          "metadata": {}
        }
      ]
    },
    {
      "cell_type": "code",
      "source": "# Find the index of the minimum value\nranarr.argmin()",
      "metadata": {},
      "execution_count": 42,
      "outputs": [
        {
          "execution_count": 42,
          "output_type": "execute_result",
          "data": {
            "text/plain": [
              "11"
            ]
          },
          "metadata": {}
        }
      ]
    },
    {
      "cell_type": "markdown",
      "source": "## Shape\n\nAs mentioned earlier, numpy array is a grid of values, all of the same type, and is indexed by a tuple of nonnegative integers. The number of dimensions is the rank of the array. The shape of an array is a tuple of integers giving the size of the array along each dimension.\n\nThe size of a Numpy array can be retrieved using the attribute named \"shape\". Please note it is not a method. Attribute does not use \"()\" when evoked. ",
      "metadata": {}
    },
    {
      "cell_type": "code",
      "source": "# Size of a Vector\narr.shape",
      "metadata": {},
      "execution_count": 45,
      "outputs": [
        {
          "execution_count": 45,
          "output_type": "execute_result",
          "data": {
            "text/plain": [
              "(50,)"
            ]
          },
          "metadata": {}
        }
      ]
    },
    {
      "cell_type": "code",
      "source": "# Change it to a 2-d array with 1 column. Notice the two sets of brackets for a 2-d array with one row.\narr.reshape(2,25)",
      "metadata": {},
      "execution_count": 46,
      "outputs": [
        {
          "execution_count": 46,
          "output_type": "execute_result",
          "data": {
            "text/plain": [
              "array([[ 0,  1,  2,  3,  4,  5,  6,  7,  8,  9, 10, 11, 12, 13, 14, 15,\n",
              "        16, 17, 18, 19, 20, 21, 22, 23, 24],\n",
              "       [25, 26, 27, 28, 29, 30, 31, 32, 33, 34, 35, 36, 37, 38, 39, 40,\n",
              "        41, 42, 43, 44, 45, 46, 47, 48, 49]])"
            ]
          },
          "metadata": {}
        }
      ]
    },
    {
      "cell_type": "code",
      "source": "# Change the shape of the array and check the shape attribute value.\narr.reshape(2,25).shape",
      "metadata": {},
      "execution_count": 47,
      "outputs": [
        {
          "execution_count": 47,
          "output_type": "execute_result",
          "data": {
            "text/plain": [
              "(2, 25)"
            ]
          },
          "metadata": {}
        }
      ]
    },
    {
      "cell_type": "code",
      "source": "# Change the shape of the array again.\narr.reshape(25,2)",
      "metadata": {},
      "execution_count": 48,
      "outputs": [
        {
          "execution_count": 48,
          "output_type": "execute_result",
          "data": {
            "text/plain": [
              "array([[ 0,  1],\n",
              "       [ 2,  3],\n",
              "       [ 4,  5],\n",
              "       [ 6,  7],\n",
              "       [ 8,  9],\n",
              "       [10, 11],\n",
              "       [12, 13],\n",
              "       [14, 15],\n",
              "       [16, 17],\n",
              "       [18, 19],\n",
              "       [20, 21],\n",
              "       [22, 23],\n",
              "       [24, 25],\n",
              "       [26, 27],\n",
              "       [28, 29],\n",
              "       [30, 31],\n",
              "       [32, 33],\n",
              "       [34, 35],\n",
              "       [36, 37],\n",
              "       [38, 39],\n",
              "       [40, 41],\n",
              "       [42, 43],\n",
              "       [44, 45],\n",
              "       [46, 47],\n",
              "       [48, 49]])"
            ]
          },
          "metadata": {}
        }
      ]
    },
    {
      "cell_type": "code",
      "source": "# Change the shape of the array and check the modified shape attribute\narr.reshape(25,2).shape",
      "metadata": {},
      "execution_count": 50,
      "outputs": [
        {
          "execution_count": 50,
          "output_type": "execute_result",
          "data": {
            "text/plain": [
              "(25, 2)"
            ]
          },
          "metadata": {}
        }
      ]
    },
    {
      "cell_type": "markdown",
      "source": "<html> <h2 style=\"font-style:italic; color:#FF0000;\"> Try Out the following set of exercises based on your NumPy array knowledge. Sample output expected is shown in each case. </h2> </html>",
      "metadata": {}
    },
    {
      "cell_type": "markdown",
      "source": "#### Create a 3x3 matrix with values ranging from 0 to 8",
      "metadata": {}
    },
    {
      "cell_type": "code",
      "source": "",
      "metadata": {
        "scrolled": true
      },
      "execution_count": 11,
      "outputs": [
        {
          "execution_count": 11,
          "output_type": "execute_result",
          "data": {
            "text/plain": [
              "array([[0, 1, 2],\n",
              "       [3, 4, 5],\n",
              "       [6, 7, 8]])"
            ]
          },
          "metadata": {}
        }
      ]
    },
    {
      "cell_type": "markdown",
      "source": "#### Create the following matrix:",
      "metadata": {}
    },
    {
      "cell_type": "code",
      "source": "",
      "metadata": {},
      "execution_count": 15,
      "outputs": [
        {
          "execution_count": 15,
          "output_type": "execute_result",
          "data": {
            "text/plain": [
              "array([[0.01, 0.02, 0.03, 0.04, 0.05, 0.06, 0.07, 0.08, 0.09, 0.1 ],\n",
              "       [0.11, 0.12, 0.13, 0.14, 0.15, 0.16, 0.17, 0.18, 0.19, 0.2 ],\n",
              "       [0.21, 0.22, 0.23, 0.24, 0.25, 0.26, 0.27, 0.28, 0.29, 0.3 ],\n",
              "       [0.31, 0.32, 0.33, 0.34, 0.35, 0.36, 0.37, 0.38, 0.39, 0.4 ],\n",
              "       [0.41, 0.42, 0.43, 0.44, 0.45, 0.46, 0.47, 0.48, 0.49, 0.5 ],\n",
              "       [0.51, 0.52, 0.53, 0.54, 0.55, 0.56, 0.57, 0.58, 0.59, 0.6 ],\n",
              "       [0.61, 0.62, 0.63, 0.64, 0.65, 0.66, 0.67, 0.68, 0.69, 0.7 ],\n",
              "       [0.71, 0.72, 0.73, 0.74, 0.75, 0.76, 0.77, 0.78, 0.79, 0.8 ],\n",
              "       [0.81, 0.82, 0.83, 0.84, 0.85, 0.86, 0.87, 0.88, 0.89, 0.9 ],\n",
              "       [0.91, 0.92, 0.93, 0.94, 0.95, 0.96, 0.97, 0.98, 0.99, 1.  ]])"
            ]
          },
          "metadata": {}
        }
      ]
    },
    {
      "cell_type": "markdown",
      "source": "### dtype\n\nIt is also easy to find the data type of the object in the array.",
      "metadata": {}
    },
    {
      "cell_type": "code",
      "source": "#Find the datatypes of the elements in the array.\nint_arr = np.array([1,2,3])\nint_arr.dtype",
      "metadata": {},
      "execution_count": 62,
      "outputs": [
        {
          "execution_count": 62,
          "output_type": "execute_result",
          "data": {
            "text/plain": [
              "dtype('int64')"
            ]
          },
          "metadata": {}
        }
      ]
    },
    {
      "cell_type": "code",
      "source": "float_arr = np.array([1.0, 2.0, 3.0])   # Let numpy choose the datatype\nfloat_arr.dtype",
      "metadata": {},
      "execution_count": 8,
      "outputs": [
        {
          "execution_count": 8,
          "output_type": "execute_result",
          "data": {
            "text/plain": [
              "dtype('float64')"
            ]
          },
          "metadata": {}
        }
      ]
    },
    {
      "cell_type": "markdown",
      "source": "# Indexing Array Elements\n\nAs shown above, there are different ways to create a NumPy array. Once the array is created, it is possible to select elements or groups of elements from an array.\n\nThere are \n- **Simple bracket indexing\"** -similar to python lists.\n- **Slice indexing:** \n- **Integer array indexing:**\n- **Boolean array indexing:** Boolean array indexing lets you pick out arbitrary elements of an array. Frequently this type of indexing is used to select the elements of an array that satisfy some condition.\n\n",
      "metadata": {}
    },
    {
      "cell_type": "code",
      "source": "import numpy as np",
      "metadata": {},
      "execution_count": 2,
      "outputs": []
    },
    {
      "cell_type": "code",
      "source": "#Creating sample array\nmy_arr = np.arange(0,11)\n# Check the array\nmy_arr",
      "metadata": {},
      "execution_count": 51,
      "outputs": [
        {
          "execution_count": 51,
          "output_type": "execute_result",
          "data": {
            "text/plain": [
              "array([ 0,  1,  2,  3,  4,  5,  6,  7,  8,  9, 10])"
            ]
          },
          "metadata": {}
        }
      ]
    },
    {
      "cell_type": "markdown",
      "source": "## Bracket Indexing and Selection\nThe simplest way to pick one or some elements of an array looks very similar to python lists:",
      "metadata": {}
    },
    {
      "cell_type": "code",
      "source": "#Get a value at an index\nmy_arr[8]",
      "metadata": {},
      "execution_count": 52,
      "outputs": [
        {
          "execution_count": 52,
          "output_type": "execute_result",
          "data": {
            "text/plain": [
              "8"
            ]
          },
          "metadata": {}
        }
      ]
    },
    {
      "cell_type": "code",
      "source": "#Get values in a range\nmy_arr[1:5]",
      "metadata": {},
      "execution_count": 53,
      "outputs": [
        {
          "execution_count": 53,
          "output_type": "execute_result",
          "data": {
            "text/plain": [
              "array([1, 2, 3, 4])"
            ]
          },
          "metadata": {}
        }
      ]
    },
    {
      "cell_type": "code",
      "source": "#Get values in a range\nmy_arr[0:5]",
      "metadata": {},
      "execution_count": 54,
      "outputs": [
        {
          "execution_count": 54,
          "output_type": "execute_result",
          "data": {
            "text/plain": [
              "array([0, 1, 2, 3, 4])"
            ]
          },
          "metadata": {}
        }
      ]
    },
    {
      "cell_type": "markdown",
      "source": "## Broadcasting and Slicing\n\nNumpy arrays differ from a normal Python list because of their ability to broadcast:",
      "metadata": {}
    },
    {
      "cell_type": "code",
      "source": "#Setting a value with index range (Broadcasting)\nmy_arr[0:5]=100\n\n#Show\nmy_arr",
      "metadata": {},
      "execution_count": 55,
      "outputs": [
        {
          "execution_count": 55,
          "output_type": "execute_result",
          "data": {
            "text/plain": [
              "array([100, 100, 100, 100, 100,   5,   6,   7,   8,   9,  10])"
            ]
          },
          "metadata": {}
        }
      ]
    },
    {
      "cell_type": "code",
      "source": "# Reset array, we'll see why I had to reset in  a moment\nmy_arr = np.arange(0,11)\n\n#Show\nmy_arr",
      "metadata": {},
      "execution_count": 56,
      "outputs": [
        {
          "execution_count": 56,
          "output_type": "execute_result",
          "data": {
            "text/plain": [
              "array([ 0,  1,  2,  3,  4,  5,  6,  7,  8,  9, 10])"
            ]
          },
          "metadata": {}
        }
      ]
    },
    {
      "cell_type": "code",
      "source": "#Important notes on Slices\nslice_of_arr = my_arr[0:6]\n\n#Show slice\nslice_of_arr",
      "metadata": {},
      "execution_count": 57,
      "outputs": [
        {
          "execution_count": 57,
          "output_type": "execute_result",
          "data": {
            "text/plain": [
              "array([0, 1, 2, 3, 4, 5])"
            ]
          },
          "metadata": {}
        }
      ]
    },
    {
      "cell_type": "code",
      "source": "#Change Slice\nslice_of_arr[:]=99\n\n#Show Slice again\nslice_of_arr",
      "metadata": {},
      "execution_count": 58,
      "outputs": [
        {
          "execution_count": 58,
          "output_type": "execute_result",
          "data": {
            "text/plain": [
              "array([99, 99, 99, 99, 99, 99])"
            ]
          },
          "metadata": {}
        }
      ]
    },
    {
      "cell_type": "markdown",
      "source": "Now note the changes also occur in our original array!",
      "metadata": {}
    },
    {
      "cell_type": "code",
      "source": "my_arr",
      "metadata": {},
      "execution_count": 59,
      "outputs": [
        {
          "execution_count": 59,
          "output_type": "execute_result",
          "data": {
            "text/plain": [
              "array([99, 99, 99, 99, 99, 99,  6,  7,  8,  9, 10])"
            ]
          },
          "metadata": {}
        }
      ]
    },
    {
      "cell_type": "markdown",
      "source": "Data is not copied, it's a view of the original array! This avoids memory problems!",
      "metadata": {}
    },
    {
      "cell_type": "code",
      "source": "#To get a copy, need to be explicit\narr_copy = my_arr.copy()\n\narr_copy",
      "metadata": {},
      "execution_count": 60,
      "outputs": [
        {
          "execution_count": 60,
          "output_type": "execute_result",
          "data": {
            "text/plain": [
              "array([99, 99, 99, 99, 99, 99,  6,  7,  8,  9, 10])"
            ]
          },
          "metadata": {}
        }
      ]
    },
    {
      "cell_type": "markdown",
      "source": "## Indexing a 2D array (matrices)\n\nThe general format is **arr_2d[row][col]** or **arr_2d[row,col]**. I recommend usually using the comma notation for clarity.",
      "metadata": {}
    },
    {
      "cell_type": "code",
      "source": "arr_2d = np.array(([5,10,15],[20,25,30],[35,40,45]))\n\n#Show\narr_2d",
      "metadata": {},
      "execution_count": 61,
      "outputs": [
        {
          "execution_count": 61,
          "output_type": "execute_result",
          "data": {
            "text/plain": [
              "array([[ 5, 10, 15],\n",
              "       [20, 25, 30],\n",
              "       [35, 40, 45]])"
            ]
          },
          "metadata": {}
        }
      ]
    },
    {
      "cell_type": "code",
      "source": "#Indexing row\narr_2d[1]\n",
      "metadata": {},
      "execution_count": 62,
      "outputs": [
        {
          "execution_count": 62,
          "output_type": "execute_result",
          "data": {
            "text/plain": [
              "array([20, 25, 30])"
            ]
          },
          "metadata": {}
        }
      ]
    },
    {
      "cell_type": "code",
      "source": "# Format is arr_2d[row][col] or arr_2d[row,col]\n\n# Getting individual element value\narr_2d[1][0]",
      "metadata": {},
      "execution_count": 63,
      "outputs": [
        {
          "execution_count": 63,
          "output_type": "execute_result",
          "data": {
            "text/plain": [
              "20"
            ]
          },
          "metadata": {}
        }
      ]
    },
    {
      "cell_type": "code",
      "source": "# Getting individual element value\narr_2d[1,0]",
      "metadata": {},
      "execution_count": 64,
      "outputs": [
        {
          "execution_count": 64,
          "output_type": "execute_result",
          "data": {
            "text/plain": [
              "20"
            ]
          },
          "metadata": {}
        }
      ]
    },
    {
      "cell_type": "code",
      "source": "# 2D array slicing\n\n#Shape (2,2) from top right corner\narr_2d[:2,1:]",
      "metadata": {},
      "execution_count": 65,
      "outputs": [
        {
          "execution_count": 65,
          "output_type": "execute_result",
          "data": {
            "text/plain": [
              "array([[10, 15],\n",
              "       [25, 30]])"
            ]
          },
          "metadata": {}
        }
      ]
    },
    {
      "cell_type": "code",
      "source": "#Shape bottom row\narr_2d[2]",
      "metadata": {},
      "execution_count": 66,
      "outputs": [
        {
          "execution_count": 66,
          "output_type": "execute_result",
          "data": {
            "text/plain": [
              "array([35, 40, 45])"
            ]
          },
          "metadata": {}
        }
      ]
    },
    {
      "cell_type": "code",
      "source": "#Shape bottom row\narr_2d[2,:]",
      "metadata": {},
      "execution_count": 67,
      "outputs": [
        {
          "execution_count": 67,
          "output_type": "execute_result",
          "data": {
            "text/plain": [
              "array([35, 40, 45])"
            ]
          },
          "metadata": {}
        }
      ]
    },
    {
      "cell_type": "markdown",
      "source": "### Fancy Indexing or Integer array indexing\n\nFancy indexing allows you to select entire rows or columns out of order,to show this, let's quickly build out a numpy array:",
      "metadata": {}
    },
    {
      "cell_type": "code",
      "source": "#Set up matrix\narr2d = np.zeros((10,10))",
      "metadata": {},
      "execution_count": 68,
      "outputs": []
    },
    {
      "cell_type": "code",
      "source": "#Length of array\narr_length = arr2d.shape[1]",
      "metadata": {},
      "execution_count": 69,
      "outputs": []
    },
    {
      "cell_type": "code",
      "source": "#Set up array\n\nfor i in range(arr_length):\n    arr2d[i] = i\n    \narr2d",
      "metadata": {},
      "execution_count": 70,
      "outputs": [
        {
          "execution_count": 70,
          "output_type": "execute_result",
          "data": {
            "text/plain": [
              "array([[0., 0., 0., 0., 0., 0., 0., 0., 0., 0.],\n",
              "       [1., 1., 1., 1., 1., 1., 1., 1., 1., 1.],\n",
              "       [2., 2., 2., 2., 2., 2., 2., 2., 2., 2.],\n",
              "       [3., 3., 3., 3., 3., 3., 3., 3., 3., 3.],\n",
              "       [4., 4., 4., 4., 4., 4., 4., 4., 4., 4.],\n",
              "       [5., 5., 5., 5., 5., 5., 5., 5., 5., 5.],\n",
              "       [6., 6., 6., 6., 6., 6., 6., 6., 6., 6.],\n",
              "       [7., 7., 7., 7., 7., 7., 7., 7., 7., 7.],\n",
              "       [8., 8., 8., 8., 8., 8., 8., 8., 8., 8.],\n",
              "       [9., 9., 9., 9., 9., 9., 9., 9., 9., 9.]])"
            ]
          },
          "metadata": {}
        }
      ]
    },
    {
      "cell_type": "markdown",
      "source": "Fancy indexing allows the following",
      "metadata": {}
    },
    {
      "cell_type": "code",
      "source": "arr2d[[2,4,6,8]]",
      "metadata": {},
      "execution_count": 71,
      "outputs": [
        {
          "execution_count": 71,
          "output_type": "execute_result",
          "data": {
            "text/plain": [
              "array([[2., 2., 2., 2., 2., 2., 2., 2., 2., 2.],\n",
              "       [4., 4., 4., 4., 4., 4., 4., 4., 4., 4.],\n",
              "       [6., 6., 6., 6., 6., 6., 6., 6., 6., 6.],\n",
              "       [8., 8., 8., 8., 8., 8., 8., 8., 8., 8.]])"
            ]
          },
          "metadata": {}
        }
      ]
    },
    {
      "cell_type": "code",
      "source": "#Allows in any order\narr2d[[6,4,2,7]]",
      "metadata": {},
      "execution_count": 72,
      "outputs": [
        {
          "execution_count": 72,
          "output_type": "execute_result",
          "data": {
            "text/plain": [
              "array([[6., 6., 6., 6., 6., 6., 6., 6., 6., 6.],\n",
              "       [4., 4., 4., 4., 4., 4., 4., 4., 4., 4.],\n",
              "       [2., 2., 2., 2., 2., 2., 2., 2., 2., 2.],\n",
              "       [7., 7., 7., 7., 7., 7., 7., 7., 7., 7.]])"
            ]
          },
          "metadata": {}
        }
      ]
    },
    {
      "cell_type": "markdown",
      "source": "## Boolean Array indexing and Selection\n\nLet's briefly go over how to use brackets for selection based off of comparison operators.\nBoolean array indexing: Boolean array indexing lets you pick out arbitrary elements of an array. Frequently this type of indexing is used to select the elements of an array that satisfy some condition.",
      "metadata": {}
    },
    {
      "cell_type": "code",
      "source": "# Regenerate the 1-d array.\nmy_arr = np.arange(1,11)\nmy_arr",
      "metadata": {
        "scrolled": true
      },
      "execution_count": 73,
      "outputs": [
        {
          "execution_count": 73,
          "output_type": "execute_result",
          "data": {
            "text/plain": [
              "array([ 1,  2,  3,  4,  5,  6,  7,  8,  9, 10])"
            ]
          },
          "metadata": {}
        }
      ]
    },
    {
      "cell_type": "code",
      "source": "# Use arithematic expressions to output a boolean sequence.\nmy_arr > 4",
      "metadata": {},
      "execution_count": 74,
      "outputs": [
        {
          "execution_count": 74,
          "output_type": "execute_result",
          "data": {
            "text/plain": [
              "array([False, False, False, False,  True,  True,  True,  True,  True,\n",
              "        True])"
            ]
          },
          "metadata": {}
        }
      ]
    },
    {
      "cell_type": "code",
      "source": "bool_arr = my_arr>4",
      "metadata": {},
      "execution_count": 76,
      "outputs": []
    },
    {
      "cell_type": "code",
      "source": "bool_arr",
      "metadata": {},
      "execution_count": 77,
      "outputs": [
        {
          "execution_count": 77,
          "output_type": "execute_result",
          "data": {
            "text/plain": [
              "array([False, False, False, False,  True,  True,  True,  True,  True,\n",
              "        True])"
            ]
          },
          "metadata": {}
        }
      ]
    },
    {
      "cell_type": "code",
      "source": "my_arr[bool_arr]",
      "metadata": {},
      "execution_count": 80,
      "outputs": [
        {
          "execution_count": 80,
          "output_type": "execute_result",
          "data": {
            "text/plain": [
              "array([ 5,  6,  7,  8,  9, 10])"
            ]
          },
          "metadata": {}
        }
      ]
    },
    {
      "cell_type": "code",
      "source": "my_arr[my_arr>2]",
      "metadata": {},
      "execution_count": 82,
      "outputs": [
        {
          "execution_count": 82,
          "output_type": "execute_result",
          "data": {
            "text/plain": [
              "array([ 3,  4,  5,  6,  7,  8,  9, 10])"
            ]
          },
          "metadata": {}
        }
      ]
    },
    {
      "cell_type": "code",
      "source": "x = 2\narr[arr>x]",
      "metadata": {},
      "execution_count": 37,
      "outputs": [
        {
          "execution_count": 37,
          "output_type": "execute_result",
          "data": {
            "text/plain": [
              "array([ 3,  4,  5,  6,  7,  8,  9, 10])"
            ]
          },
          "metadata": {}
        }
      ]
    },
    {
      "cell_type": "markdown",
      "source": "<html> <h2 style=\"font-style:italic; color:#FF0000;\"> Try Out the following set of exercises based on your NumPy array indexing knowledge. Sample output expected is shown in each case. Careful not to run the cells preceding the output as you will loose the output. </h2> </html>",
      "metadata": {}
    },
    {
      "cell_type": "markdown",
      "source": "Given a few matrices, replicate the resulting matrix outputs:",
      "metadata": {}
    },
    {
      "cell_type": "code",
      "source": "mat = np.arange(1,26).reshape(5,5)\nmat",
      "metadata": {},
      "execution_count": 16,
      "outputs": [
        {
          "execution_count": 16,
          "output_type": "execute_result",
          "data": {
            "text/plain": [
              "array([[ 1,  2,  3,  4,  5],\n",
              "       [ 6,  7,  8,  9, 10],\n",
              "       [11, 12, 13, 14, 15],\n",
              "       [16, 17, 18, 19, 20],\n",
              "       [21, 22, 23, 24, 25]])"
            ]
          },
          "metadata": {}
        }
      ]
    },
    {
      "cell_type": "code",
      "source": "# WRITE CODE HERE THAT REPRODUCES THE OUTPUT OF THE CELL BELOW\n# BE CAREFUL NOT TO RUN THE CELL BELOW, OTHERWISE YOU WON'T\n# BE ABLE TO SEE THE OUTPUT ANY MORE\n\n# INSERT CODE HERE .. \n\n\n\n",
      "metadata": {},
      "execution_count": 1,
      "outputs": []
    },
    {
      "cell_type": "code",
      "source": "",
      "metadata": {},
      "execution_count": 40,
      "outputs": [
        {
          "execution_count": 40,
          "output_type": "execute_result",
          "data": {
            "text/plain": [
              "array([[12, 13, 14, 15],\n",
              "       [17, 18, 19, 20],\n",
              "       [22, 23, 24, 25]])"
            ]
          },
          "metadata": {}
        }
      ]
    },
    {
      "cell_type": "code",
      "source": "# WRITE CODE HERE THAT REPRODUCES THE OUTPUT OF THE CELL BELOW\n# BE CAREFUL NOT TO RUN THE CELL BELOW, OTHERWISE YOU WON'T\n# BE ABLE TO SEE THE OUTPUT ANY MORE\n\n\n# INSERT CODE HERE .. \n\n\n\n\n",
      "metadata": {},
      "execution_count": 2,
      "outputs": []
    },
    {
      "cell_type": "code",
      "source": "",
      "metadata": {},
      "execution_count": 41,
      "outputs": [
        {
          "execution_count": 41,
          "output_type": "execute_result",
          "data": {
            "text/plain": [
              "20"
            ]
          },
          "metadata": {}
        }
      ]
    },
    {
      "cell_type": "code",
      "source": "# WRITE CODE HERE THAT REPRODUCES THE OUTPUT OF THE CELL BELOW\n# BE CAREFUL NOT TO RUN THE CELL BELOW, OTHERWISE YOU WON'T\n# BE ABLE TO SEE THE OUTPUT ANY MORE\n\n\n# INSERT CODE HERE .. \n\n\n\n",
      "metadata": {},
      "execution_count": 3,
      "outputs": []
    },
    {
      "cell_type": "code",
      "source": "",
      "metadata": {},
      "execution_count": null,
      "outputs": []
    },
    {
      "cell_type": "code",
      "source": "",
      "metadata": {},
      "execution_count": 42,
      "outputs": [
        {
          "execution_count": 42,
          "output_type": "execute_result",
          "data": {
            "text/plain": [
              "array([[ 2],\n",
              "       [ 7],\n",
              "       [12]])"
            ]
          },
          "metadata": {}
        }
      ]
    },
    {
      "cell_type": "code",
      "source": "# WRITE CODE HERE THAT REPRODUCES THE OUTPUT OF THE CELL BELOW\n# BE CAREFUL NOT TO RUN THE CELL BELOW, OTHERWISE YOU WON'T\n# BE ABLE TO SEE THE OUTPUT ANY MORE\n\n# INSERT CODE HERE .. \n\n\n",
      "metadata": {},
      "execution_count": 4,
      "outputs": []
    },
    {
      "cell_type": "code",
      "source": "",
      "metadata": {},
      "execution_count": 46,
      "outputs": [
        {
          "execution_count": 46,
          "output_type": "execute_result",
          "data": {
            "text/plain": [
              "array([21, 22, 23, 24, 25])"
            ]
          },
          "metadata": {}
        }
      ]
    },
    {
      "cell_type": "code",
      "source": "# WRITE CODE HERE THAT REPRODUCES THE OUTPUT OF THE CELL BELOW\n# BE CAREFUL NOT TO RUN THE CELL BELOW, OTHERWISE YOU WON'T\n# BE ABLE TO SEE THE OUTPUT ANY MORE\n\n# INSERT CODE HERE .. \n\n\n",
      "metadata": {},
      "execution_count": 5,
      "outputs": []
    },
    {
      "cell_type": "code",
      "source": "",
      "metadata": {},
      "execution_count": 49,
      "outputs": [
        {
          "execution_count": 49,
          "output_type": "execute_result",
          "data": {
            "text/plain": [
              "array([[16, 17, 18, 19, 20],\n",
              "       [21, 22, 23, 24, 25]])"
            ]
          },
          "metadata": {}
        }
      ]
    },
    {
      "cell_type": "markdown",
      "source": "*********************************************************************************************************************\n\n=====================================================================================================================",
      "metadata": {}
    },
    {
      "cell_type": "markdown",
      "source": "# NumPy Operations\n\n## Arithmetic\n\nYou can easily perform array with array arithmetic, or scalar with array arithmetic. Let's see some examples:",
      "metadata": {}
    },
    {
      "cell_type": "code",
      "source": "import numpy as np\narr = np.arange(0,10)",
      "metadata": {},
      "execution_count": 83,
      "outputs": []
    },
    {
      "cell_type": "code",
      "source": "arr.sum?",
      "metadata": {},
      "execution_count": 15,
      "outputs": []
    },
    {
      "cell_type": "code",
      "source": "arr + arr",
      "metadata": {},
      "execution_count": 84,
      "outputs": [
        {
          "execution_count": 84,
          "output_type": "execute_result",
          "data": {
            "text/plain": [
              "array([ 0,  2,  4,  6,  8, 10, 12, 14, 16, 18])"
            ]
          },
          "metadata": {}
        }
      ]
    },
    {
      "cell_type": "code",
      "source": "arr * arr",
      "metadata": {},
      "execution_count": 85,
      "outputs": [
        {
          "execution_count": 85,
          "output_type": "execute_result",
          "data": {
            "text/plain": [
              "array([ 0,  1,  4,  9, 16, 25, 36, 49, 64, 81])"
            ]
          },
          "metadata": {}
        }
      ]
    },
    {
      "cell_type": "code",
      "source": "arr - arr",
      "metadata": {},
      "execution_count": 86,
      "outputs": [
        {
          "execution_count": 86,
          "output_type": "execute_result",
          "data": {
            "text/plain": [
              "array([0, 0, 0, 0, 0, 0, 0, 0, 0, 0])"
            ]
          },
          "metadata": {}
        }
      ]
    },
    {
      "cell_type": "code",
      "source": "# Warning on division by zero, but not an error!\n# Just replaced with nan\narr/arr",
      "metadata": {},
      "execution_count": 87,
      "outputs": [
        {
          "name": "stderr",
          "output_type": "stream",
          "text": "/anaconda3/lib/python3.7/site-packages/ipykernel_launcher.py:3: RuntimeWarning: invalid value encountered in true_divide\n\n  This is separate from the ipykernel package so we can avoid doing imports until\n"
        },
        {
          "execution_count": 87,
          "output_type": "execute_result",
          "data": {
            "text/plain": [
              "array([nan,  1.,  1.,  1.,  1.,  1.,  1.,  1.,  1.,  1.])"
            ]
          },
          "metadata": {}
        }
      ]
    },
    {
      "cell_type": "code",
      "source": "# Also warning, but not an error instead infinity\n1/arr",
      "metadata": {},
      "execution_count": 88,
      "outputs": [
        {
          "name": "stderr",
          "output_type": "stream",
          "text": "/anaconda3/lib/python3.7/site-packages/ipykernel_launcher.py:2: RuntimeWarning: divide by zero encountered in true_divide\n\n  \n"
        },
        {
          "execution_count": 88,
          "output_type": "execute_result",
          "data": {
            "text/plain": [
              "array([       inf, 1.        , 0.5       , 0.33333333, 0.25      ,\n",
              "       0.2       , 0.16666667, 0.14285714, 0.125     , 0.11111111])"
            ]
          },
          "metadata": {}
        }
      ]
    },
    {
      "cell_type": "code",
      "source": "arr**3",
      "metadata": {},
      "execution_count": 89,
      "outputs": [
        {
          "execution_count": 89,
          "output_type": "execute_result",
          "data": {
            "text/plain": [
              "array([  0,   1,   8,  27,  64, 125, 216, 343, 512, 729])"
            ]
          },
          "metadata": {}
        }
      ]
    },
    {
      "cell_type": "markdown",
      "source": "## Broadcasting Operations\n\nNumpy arrays differ from a normal Python list arithmetic because of their ability to broadcast. ",
      "metadata": {}
    },
    {
      "cell_type": "code",
      "source": "#Check out the example where a single row gets duplicated and adds to 3X3 matrix \np = np.array([[0, 0, 0],\n              [1, 2, 3],\n              [4, 5, 6]]) \nq= np.array([10, 11, 12]) \nprint(\"Original arrays:\")\nprint(\"Array-1\")\nprint(p)\nprint(\"Array-2\")\nprint(q)\nprint(\"\\nNew Array:\")\nnew_array1 = p + q \nprint(new_array1)",
      "metadata": {},
      "execution_count": 3,
      "outputs": [
        {
          "name": "stdout",
          "output_type": "stream",
          "text": "Original arrays:\n\nArray-1\n\n[[0 0 0]\n\n [1 2 3]\n\n [4 5 6]]\n\nArray-2\n\n[10 11 12]\n\n\n\nNew Array:\n\n[[10 11 12]\n\n [11 13 15]\n\n [14 16 18]]\n"
        }
      ]
    },
    {
      "cell_type": "markdown",
      "source": "<html> <h2 style=\"font-style:italic; color:#FF0000;\"> Try Out a few more broadcasting exercises based on your NumPy array knowledge. Make up your own arrays with different sizes and experiment which arithematic operations would work with broadcasting. </h2> </html>",
      "metadata": {}
    },
    {
      "cell_type": "code",
      "source": "import numpy as np\n# Three are numerous possibilities. Sample e.g.,\nmat1 = np.eye(3)\nmat2 = np.ones(3)\nmat3 = [5]\nmat4 = np.arange(0,10).reshape(2,5)\n\nmat1 + mat2\nmat1 + mat3\n\nmat2 + mat3\n\n#mat1 + mat4\nmat4 + mat3\n\n# Let the student explore more options with new numpy arrays! Define more arrays and \n# check the combinatinns that work and that don't!",
      "metadata": {},
      "execution_count": 13,
      "outputs": [
        {
          "execution_count": 13,
          "output_type": "execute_result",
          "data": {
            "text/plain": [
              "array([[ 5,  6,  7,  8,  9],\n",
              "       [10, 11, 12, 13, 14]])"
            ]
          },
          "metadata": {}
        }
      ]
    },
    {
      "cell_type": "code",
      "source": "",
      "metadata": {},
      "execution_count": null,
      "outputs": []
    },
    {
      "cell_type": "code",
      "source": "",
      "metadata": {},
      "execution_count": null,
      "outputs": []
    },
    {
      "cell_type": "markdown",
      "source": "## Universal Array Functions\n\nNumpy comes with many [universal array functions](http://docs.scipy.org/doc/numpy/reference/ufuncs.html), which are essentially just mathematical operations you can use to perform the operation across the array. Let's show some common ones:",
      "metadata": {}
    },
    {
      "cell_type": "code",
      "source": "#Taking Square Roots\nnp.sqrt(arr)",
      "metadata": {},
      "execution_count": 91,
      "outputs": [
        {
          "execution_count": 91,
          "output_type": "execute_result",
          "data": {
            "text/plain": [
              "array([0.        , 1.        , 1.41421356, 1.73205081, 2.        ,\n",
              "       2.23606798, 2.44948974, 2.64575131, 2.82842712, 3.        ])"
            ]
          },
          "metadata": {}
        }
      ]
    },
    {
      "cell_type": "code",
      "source": "#Calcualting exponential (e^)\nnp.exp(arr)",
      "metadata": {},
      "execution_count": 13,
      "outputs": [
        {
          "execution_count": 13,
          "output_type": "execute_result",
          "data": {
            "text/plain": [
              "array([  1.00000000e+00,   2.71828183e+00,   7.38905610e+00,\n",
              "         2.00855369e+01,   5.45981500e+01,   1.48413159e+02,\n",
              "         4.03428793e+02,   1.09663316e+03,   2.98095799e+03,\n",
              "         8.10308393e+03])"
            ]
          },
          "metadata": {}
        }
      ]
    },
    {
      "cell_type": "code",
      "source": "np.max(arr) #same as arr.max()",
      "metadata": {},
      "execution_count": 14,
      "outputs": [
        {
          "execution_count": 14,
          "output_type": "execute_result",
          "data": {
            "text/plain": [
              "9"
            ]
          },
          "metadata": {}
        }
      ]
    },
    {
      "cell_type": "code",
      "source": "np.sin(arr)",
      "metadata": {},
      "execution_count": 15,
      "outputs": [
        {
          "execution_count": 15,
          "output_type": "execute_result",
          "data": {
            "text/plain": [
              "array([ 0.        ,  0.84147098,  0.90929743,  0.14112001, -0.7568025 ,\n",
              "       -0.95892427, -0.2794155 ,  0.6569866 ,  0.98935825,  0.41211849])"
            ]
          },
          "metadata": {}
        }
      ]
    },
    {
      "cell_type": "code",
      "source": "np.log(arr)",
      "metadata": {},
      "execution_count": 16,
      "outputs": [
        {
          "name": "stderr",
          "output_type": "stream",
          "text": "/Users/marci/anaconda/lib/python3.5/site-packages/ipykernel/__main__.py:1: RuntimeWarning: divide by zero encountered in log\n\n  if __name__ == '__main__':\n"
        },
        {
          "execution_count": 16,
          "output_type": "execute_result",
          "data": {
            "text/plain": [
              "array([       -inf,  0.        ,  0.69314718,  1.09861229,  1.38629436,\n",
              "        1.60943791,  1.79175947,  1.94591015,  2.07944154,  2.19722458])"
            ]
          },
          "metadata": {}
        }
      ]
    },
    {
      "cell_type": "markdown",
      "source": "<html> <h2 style=\"font-style:italic; color:#FF0000;\"> Try Out the following set of exercises. </h2> </html>",
      "metadata": {}
    },
    {
      "cell_type": "markdown",
      "source": "Given the matrix, write code to output specific functions:",
      "metadata": {}
    },
    {
      "cell_type": "code",
      "source": "mat = np.arange(1,26).reshape(5,5)\nmat",
      "metadata": {},
      "execution_count": 11,
      "outputs": [
        {
          "execution_count": 11,
          "output_type": "execute_result",
          "data": {
            "text/plain": [
              "array([[ 1,  2,  3,  4,  5],\n",
              "       [ 6,  7,  8,  9, 10],\n",
              "       [11, 12, 13, 14, 15],\n",
              "       [16, 17, 18, 19, 20],\n",
              "       [21, 22, 23, 24, 25]])"
            ]
          },
          "metadata": {}
        }
      ]
    },
    {
      "cell_type": "markdown",
      "source": "#### Get the sum of all the values in mat\n",
      "metadata": {}
    },
    {
      "cell_type": "code",
      "source": "",
      "metadata": {},
      "execution_count": 18,
      "outputs": [
        {
          "execution_count": 18,
          "output_type": "execute_result",
          "data": {
            "text/plain": [
              "325"
            ]
          },
          "metadata": {}
        }
      ]
    },
    {
      "cell_type": "markdown",
      "source": "\n\n\n#### Get the standard deviation of the values in mat\n\n\n\n\n",
      "metadata": {}
    },
    {
      "cell_type": "code",
      "source": "",
      "metadata": {},
      "execution_count": 16,
      "outputs": [
        {
          "execution_count": 16,
          "output_type": "execute_result",
          "data": {
            "text/plain": [
              "7.211102550927978"
            ]
          },
          "metadata": {}
        }
      ]
    },
    {
      "cell_type": "markdown",
      "source": "\n#### Get the sum of all the columns in mat",
      "metadata": {}
    },
    {
      "cell_type": "code",
      "source": "#sum(mat) # also works if it was across rows!\n",
      "metadata": {},
      "execution_count": 25,
      "outputs": [
        {
          "execution_count": 25,
          "output_type": "execute_result",
          "data": {
            "text/plain": [
              "array([ 15,  40,  65,  90, 115])"
            ]
          },
          "metadata": {}
        }
      ]
    },
    {
      "cell_type": "markdown",
      "source": "<html> <h2 style=\"font-style:italic; color:#FF00FF;\"> Data Analysis Exercise using NumPy Arrays. TBD </h2> </html>",
      "metadata": {}
    },
    {
      "cell_type": "code",
      "source": "",
      "metadata": {},
      "execution_count": null,
      "outputs": []
    }
  ]
}