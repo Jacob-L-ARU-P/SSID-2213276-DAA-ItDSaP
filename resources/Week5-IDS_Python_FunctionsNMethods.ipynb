{
  "metadata": {
    "kernelspec": {
      "name": "python",
      "display_name": "Pyolite",
      "language": "python"
    },
    "language_info": {
      "codemirror_mode": {
        "name": "python",
        "version": 3
      },
      "file_extension": ".py",
      "mimetype": "text/x-python",
      "name": "python",
      "nbconvert_exporter": "python",
      "pygments_lexer": "ipython3",
      "version": "3.8"
    }
  },
  "nbformat_minor": 4,
  "nbformat": 4,
  "cells": [
    {
      "cell_type": "markdown",
      "source": "## Functions\n\nFunctions are set of instructions that need to be run multiple times on different set of inputs. The set of instructions are gathered into a block called function that could have input parameters and could return a value.\n\nDefinition of the function can be: \n\ndef my_func(param1='default'):\n\n    \"\"\"\n    Docstring goes here.\n    \"\"\"\n\n    print(param1)\n    \nThe function above could be evoked by one of the following ways:\n1. my_func(param1='new param')\n2. my_func('new param')\n3. my_func()\n\nThe function could return a value using the return() method.\n",
      "metadata": {}
    },
    {
      "cell_type": "code",
      "source": "def my_func(param1='default'):\n    \"\"\"\n    Docstring goes here.\n    \"\"\"\n    print(param1)",
      "metadata": {},
      "execution_count": 49,
      "outputs": []
    },
    {
      "cell_type": "code",
      "source": "#function to just print something\ndef my_function():\n    print(\"Hello From My Function!\")",
      "metadata": {},
      "execution_count": null,
      "outputs": []
    },
    {
      "cell_type": "code",
      "source": "#function receiving arguements.\ndef my_function_with_args(username, greeting):\n    print(\"Hello, %s , From My Function!, I wish you %s\"%(username, greeting))\n    ",
      "metadata": {},
      "execution_count": 28,
      "outputs": []
    },
    {
      "cell_type": "code",
      "source": "#function returning a value\ndef sum_two_numbers(a, b):\n    return a + b",
      "metadata": {},
      "execution_count": 29,
      "outputs": []
    },
    {
      "cell_type": "code",
      "source": "# Define three functions above and invoke them...\ndef my_function():\n    print(\"Hello From My Function!\")\n\ndef my_function_with_args(username, greeting):\n    print(\"Hello, %s , From My Function!, I wish you %s\"%(username, greeting))\n\ndef sum_two_numbers(a, b):\n    return a + b\n\n# print(a simple greeting)\nmy_function()\n\n#prints - \"Hello, John Doe, From My Function!, I wish you a great year!\"\nmy_function_with_args(\"John Doe\", \"a great year!\")\n\n# after this line x will hold the value 3!\nx = sum_two_numbers(1,2)",
      "metadata": {},
      "execution_count": 30,
      "outputs": [
        {
          "name": "stdout",
          "output_type": "stream",
          "text": "Hello From My Function!\n\nHello, John Doe , From My Function!, I wish you a great year!\n"
        }
      ]
    },
    {
      "cell_type": "markdown",
      "source": "<html> <h3 style=\"font-style:italic; color:#FF0000;\"> Try Out: Use an existing function, and while adding your own to create a fully functional program.</h3> </html>",
      "metadata": {}
    },
    {
      "cell_type": "markdown",
      "source": "\n1. Add a function named list_benefits() that returns the following list of strings: \"More organized code\", \"More readable code\", \"Easier code reuse\", \"Allowing programmers to share and connect code together\"\n\n2. Add a function named build_sentence(info) which receives a single argument containing a string and returns a sentence starting with the given string and ending with the string \" is a benefit of functions!\"\n\n3. Run and see all the functions work together!",
      "metadata": {}
    },
    {
      "cell_type": "code",
      "source": "# Modify this function to return a list of strings as defined above\ndef list_benefits():\n    pass\n\n# Modify this function to concatenate to each benefit - \" is a benefit of functions!\"\ndef build_sentence(benefit):\n    pass\n\ndef name_the_benefits_of_functions():\n    list_of_benefits = list_benefits()\n    for benefit in list_of_benefits:\n        print(build_sentence(benefit))\n\nname_the_benefits_of_functions()",
      "metadata": {},
      "execution_count": null,
      "outputs": []
    },
    {
      "cell_type": "markdown",
      "source": "<html> <h3 style=\"font-style:italic; color:#FF0000;\"> Try Out: Create a function that counts the number of times the word \"dog\" occurs in a string. Again ignore edge cases. </h3> </html>",
      "metadata": {}
    },
    {
      "cell_type": "code",
      "source": "",
      "metadata": {},
      "execution_count": 30,
      "outputs": []
    },
    {
      "cell_type": "code",
      "source": "countDog('This dog runs faster than the other dog dude!')",
      "metadata": {},
      "execution_count": 31,
      "outputs": [
        {
          "execution_count": 31,
          "output_type": "execute_result",
          "data": {
            "text/plain": [
              "2"
            ]
          },
          "metadata": {}
        }
      ]
    },
    {
      "cell_type": "markdown",
      "source": "<html> <h3 style=\"font-style:italic; color:#FF0000;\"> Try Out: Create a function that grabs the email website domain from a string in the form: user@domain.com </h3> </html>\n\n***for example, passing \"user@domain.com\" would return: domain.com*** ",
      "metadata": {}
    },
    {
      "cell_type": "code",
      "source": "",
      "metadata": {},
      "execution_count": null,
      "outputs": []
    },
    {
      "cell_type": "code",
      "source": "domainGet('user@domain.com')",
      "metadata": {
        "scrolled": true
      },
      "execution_count": 26,
      "outputs": [
        {
          "execution_count": 26,
          "output_type": "execute_result",
          "data": {
            "text/plain": [
              "'domain.com'"
            ]
          },
          "metadata": {}
        }
      ]
    },
    {
      "cell_type": "markdown",
      "source": "## Methods\n\nMethods are in-built functions. There are methods associated with the datatypes. \n\ne.g. len() or append() or join() or split() methods for lists and strings that we have already seen. \n",
      "metadata": {}
    },
    {
      "cell_type": "code",
      "source": "#Showing the help for a method!\nlen?\nlist.append?",
      "metadata": {},
      "execution_count": 43,
      "outputs": []
    },
    {
      "cell_type": "code",
      "source": "#Create a string\nst = 'hello my name is Sam'",
      "metadata": {
        "collapsed": true,
        "jupyter": {
          "outputs_hidden": true
        }
      },
      "execution_count": 111,
      "outputs": []
    },
    {
      "cell_type": "code",
      "source": "# Call the method lower on your string\nst.lower()",
      "metadata": {},
      "execution_count": 112,
      "outputs": [
        {
          "execution_count": 112,
          "output_type": "execute_result",
          "data": {
            "text/plain": [
              "'hello my name is sam'"
            ]
          },
          "metadata": {}
        }
      ]
    },
    {
      "cell_type": "code",
      "source": "#Call the method upper() in your string\nst.upper()",
      "metadata": {},
      "execution_count": 113,
      "outputs": [
        {
          "execution_count": 113,
          "output_type": "execute_result",
          "data": {
            "text/plain": [
              "'HELLO MY NAME IS SAM'"
            ]
          },
          "metadata": {}
        }
      ]
    },
    {
      "cell_type": "code",
      "source": "#Another popular method on strings\nst.split()",
      "metadata": {},
      "execution_count": 103,
      "outputs": [
        {
          "execution_count": 103,
          "output_type": "execute_result",
          "data": {
            "text/plain": [
              "['hello', 'my', 'name', 'is', 'Sam']"
            ]
          },
          "metadata": {}
        }
      ]
    },
    {
      "cell_type": "code",
      "source": "#Create another string\ntweet = 'Go Sports! #Sports'",
      "metadata": {
        "collapsed": true,
        "jupyter": {
          "outputs_hidden": true
        }
      },
      "execution_count": 104,
      "outputs": []
    },
    {
      "cell_type": "code",
      "source": "# Split method could have a different parameter.\ntweet.split('#')",
      "metadata": {},
      "execution_count": 106,
      "outputs": [
        {
          "execution_count": 106,
          "output_type": "execute_result",
          "data": {
            "text/plain": [
              "['Go Sports! ', 'Sports']"
            ]
          },
          "metadata": {}
        }
      ]
    },
    {
      "cell_type": "code",
      "source": "# You could directly access the list elements \ntweet.split('#')[1]",
      "metadata": {},
      "execution_count": 107,
      "outputs": [
        {
          "execution_count": 107,
          "output_type": "execute_result",
          "data": {
            "text/plain": [
              "'Sports'"
            ]
          },
          "metadata": {}
        }
      ]
    },
    {
      "cell_type": "code",
      "source": "#Create a dictionary \nd = {'key1': 'item1', 'key2': 'item2'}\nd",
      "metadata": {},
      "execution_count": 1,
      "outputs": [
        {
          "execution_count": 1,
          "output_type": "execute_result",
          "data": {
            "text/plain": [
              "{'key1': 'item1', 'key2': 'item2'}"
            ]
          },
          "metadata": {}
        }
      ]
    },
    {
      "cell_type": "code",
      "source": "# Method on dictionary to find the keys\nd.keys()",
      "metadata": {},
      "execution_count": 2,
      "outputs": [
        {
          "execution_count": 2,
          "output_type": "execute_result",
          "data": {
            "text/plain": [
              "dict_keys(['key1', 'key2'])"
            ]
          },
          "metadata": {}
        }
      ]
    },
    {
      "cell_type": "code",
      "source": "# Method on dictionary to find its items\nd.items()",
      "metadata": {},
      "execution_count": 3,
      "outputs": [
        {
          "execution_count": 3,
          "output_type": "execute_result",
          "data": {
            "text/plain": [
              "dict_items([('key1', 'item1'), ('key2', 'item2')])"
            ]
          },
          "metadata": {}
        }
      ]
    },
    {
      "cell_type": "code",
      "source": "# Create a list\nlst = [1,2,3]",
      "metadata": {
        "collapsed": true,
        "jupyter": {
          "outputs_hidden": true
        }
      },
      "execution_count": 95,
      "outputs": []
    },
    {
      "cell_type": "code",
      "source": "# pop() is a method on list\nlst.pop()",
      "metadata": {},
      "execution_count": 96,
      "outputs": [
        {
          "execution_count": 96,
          "output_type": "execute_result",
          "data": {
            "text/plain": [
              "3"
            ]
          },
          "metadata": {}
        }
      ]
    },
    {
      "cell_type": "code",
      "source": "# Check what is the list now?\nlst",
      "metadata": {},
      "execution_count": 108,
      "outputs": [
        {
          "execution_count": 108,
          "output_type": "execute_result",
          "data": {
            "text/plain": [
              "[1, 2]"
            ]
          },
          "metadata": {}
        }
      ]
    },
    {
      "cell_type": "code",
      "source": "# in is a keyword that is very useful. Not a method! \n'x' in [1,2,3]",
      "metadata": {},
      "execution_count": 109,
      "outputs": [
        {
          "execution_count": 109,
          "output_type": "execute_result",
          "data": {
            "text/plain": [
              "False"
            ]
          },
          "metadata": {}
        }
      ]
    },
    {
      "cell_type": "code",
      "source": "# in keyword returns boolean value True in this case.\n'x' in ['x','y','z']",
      "metadata": {},
      "execution_count": 110,
      "outputs": [
        {
          "execution_count": 110,
          "output_type": "execute_result",
          "data": {
            "text/plain": [
              "True"
            ]
          },
          "metadata": {}
        }
      ]
    },
    {
      "cell_type": "markdown",
      "source": "<html> <h3 style=\"font-style:italic; color:#FF0000;\"> Try Out: How to find the methods associated with the string object? </h3> </html>",
      "metadata": {}
    },
    {
      "cell_type": "code",
      "source": "",
      "metadata": {},
      "execution_count": null,
      "outputs": []
    },
    {
      "cell_type": "markdown",
      "source": "<html> <h3 style=\"font-style:italic; color:#FF0000;\"> Try Out: Find five methods associated with list objects.</h3> </html>",
      "metadata": {}
    },
    {
      "cell_type": "code",
      "source": "",
      "metadata": {},
      "execution_count": null,
      "outputs": []
    },
    {
      "cell_type": "markdown",
      "source": "<html> <h3 style=\"font-style:italic; color:#FF0000;\"> Try Out: What is the difference between methods and attributes of an object? Find two attributes associated with list and string object each.</h3> </html>",
      "metadata": {}
    },
    {
      "cell_type": "code",
      "source": "",
      "metadata": {},
      "execution_count": null,
      "outputs": []
    },
    {
      "cell_type": "markdown",
      "source": "## Modules, Packages, Libraries and import options\n\nIn programming, a module is a piece of software that has a specific functionality. For example, when building a ping pong game, one module would be responsible for the game logic, and\nanother module would be responsible for drawing the game on the screen. Each module is a different file, which can be edited separately.\n\nWriting modules\nModules in Python are simply Python files with a .py extension. The name of the module will be the name of the file. A Python module can have a set of functions, classes or variables defined and implemented. In the example above, we will have two files, we will have:\n\nmygame/\nmygame/game.py\nmygame/draw.py\n\nModules are imported from other modules using the import command. In this example, the game.py script may look something like this:",
      "metadata": {}
    },
    {
      "cell_type": "code",
      "source": "# game.py\n# import the draw module\nimport draw\n\ndef play_game():\n    ...\n\ndef main():\n    result = play_game()\n    draw.draw_game(result)\n\n# this means that if this script is executed, then \n# main() will be executed\nif __name__ == '__main__':\n    main()",
      "metadata": {},
      "execution_count": null,
      "outputs": []
    },
    {
      "cell_type": "code",
      "source": "# draw.py\n\ndef draw_game():\n    ...\n\ndef clear_screen(screen):\n    ...",
      "metadata": {},
      "execution_count": null,
      "outputs": []
    },
    {
      "cell_type": "markdown",
      "source": "In this example, the game module imports the load module, which enables it to use functions implemented in that module. The main function would use the local function play_game to run the game, and then draw the result of the game using a function implemented in the draw module called draw_game. To use the function draw_game from the draw module, we would need to specify in which module the function is implemented, using the dot operator. To reference the draw_game function from the game module, we would need to import the draw module and only then call draw.draw_game().\n\nWhen the import draw directive will run, the Python interpreter will look for a file in the directory which the script was executed from, by the name of the module with a .py prefix, so in our case it will try to look for draw.py. If it will find one, it will import it. If not, he will continue to look for built-in modules.\n\nYou may have noticed that when importing a module, a .pyc file appears, which is a compiled Python file. Python compiles files into Python bytecode so that it won't have to parse the files each time modules are loaded. If a .pyc file exists, it gets loaded instead of the .py file, but this process is transparent to the user.",
      "metadata": {}
    },
    {
      "cell_type": "code",
      "source": "#Import functions directly into the script using \"from\"\n# game.py\n# import the draw module\nfrom draw import draw_game\n\ndef main():\n    result = play_game()\n    draw_game(result)",
      "metadata": {},
      "execution_count": 31,
      "outputs": [
        {
          "ename": "ModuleNotFoundError",
          "evalue": "No module named 'draw'",
          "output_type": "error",
          "traceback": [
            "\u001b[0;31m---------------------------------------------------------------------------\u001b[0m",
            "\u001b[0;31mModuleNotFoundError\u001b[0m                       Traceback (most recent call last)",
            "\u001b[0;32m<ipython-input-31-08563cecb277>\u001b[0m in \u001b[0;36m<module>\u001b[0;34m\u001b[0m\n\u001b[1;32m      2\u001b[0m \u001b[0;31m# game.py\u001b[0m\u001b[0;34m\u001b[0m\u001b[0;34m\u001b[0m\u001b[0;34m\u001b[0m\u001b[0m\n\u001b[1;32m      3\u001b[0m \u001b[0;31m# import the draw module\u001b[0m\u001b[0;34m\u001b[0m\u001b[0;34m\u001b[0m\u001b[0;34m\u001b[0m\u001b[0m\n\u001b[0;32m----> 4\u001b[0;31m \u001b[0;32mfrom\u001b[0m \u001b[0mdraw\u001b[0m \u001b[0;32mimport\u001b[0m \u001b[0mdraw_game\u001b[0m\u001b[0;34m\u001b[0m\u001b[0;34m\u001b[0m\u001b[0m\n\u001b[0m\u001b[1;32m      5\u001b[0m \u001b[0;34m\u001b[0m\u001b[0m\n\u001b[1;32m      6\u001b[0m \u001b[0;32mdef\u001b[0m \u001b[0mmain\u001b[0m\u001b[0;34m(\u001b[0m\u001b[0;34m)\u001b[0m\u001b[0;34m:\u001b[0m\u001b[0;34m\u001b[0m\u001b[0;34m\u001b[0m\u001b[0m\n",
            "\u001b[0;31mModuleNotFoundError\u001b[0m: No module named 'draw'"
          ]
        }
      ]
    },
    {
      "cell_type": "code",
      "source": "#Could import all objects from a module using \"*\"\n# game.py\n# import the draw module\nfrom draw import *\n\ndef main():\n    result = play_game()\n    draw_game(result)",
      "metadata": {},
      "execution_count": null,
      "outputs": []
    },
    {
      "cell_type": "code",
      "source": "#Use alias for shorter module names imported using \"as\" keyword\n# game.py\n# import the draw module\nif visual_mode:\n    # in visual mode, we draw using graphics\n    import draw_visual as draw\nelse:\n    # in textual mode, we print out text\n    import draw_textual as draw\n\ndef main():\n    result = play_game()\n    # this can either be visual or textual depending on visual_mode\n    draw.draw_game(result)",
      "metadata": {},
      "execution_count": null,
      "outputs": []
    },
    {
      "cell_type": "markdown",
      "source": "Exploring built-in modules\nCheck out the full list of built-in modules in the Python standard library here.\nTwo very important functions come in handy when exploring modules in Python - the dir and help functions.\nIf we want to import the module urllib, which enables us to create read data from URLs, we simply import the module:\n",
      "metadata": {}
    },
    {
      "cell_type": "code",
      "source": "# import the library\nimport urllib\n\n# use it\nurllib.urlopen(...)",
      "metadata": {},
      "execution_count": null,
      "outputs": []
    },
    {
      "cell_type": "code",
      "source": "# Use dir to check for functions in a module\nimport urllib\ndir(urllib)",
      "metadata": {},
      "execution_count": 32,
      "outputs": [
        {
          "execution_count": 32,
          "output_type": "execute_result",
          "data": {
            "text/plain": [
              "['__builtins__',\n",
              " '__cached__',\n",
              " '__doc__',\n",
              " '__file__',\n",
              " '__loader__',\n",
              " '__name__',\n",
              " '__package__',\n",
              " '__path__',\n",
              " '__spec__',\n",
              " 'error',\n",
              " 'parse',\n",
              " 'request',\n",
              " 'response']"
            ]
          },
          "metadata": {}
        }
      ]
    },
    {
      "cell_type": "markdown",
      "source": "Writing packages\nPackages are namespaces which contain multiple packages and modules themselves. They are simply directories, but with a twist.\n\nEach package in Python is a directory which MUST contain a special file called __init__.py. This file can be empty, and it indicates that the directory it contains is a Python package, so it can be imported the same way a module can be imported.\n\nIf we create a directory called foo, which marks the package name, we can then create a module inside that package called bar. We also must not forget to add the __init__.py file inside the foo directory.\n\nTo use the module bar, we can import it in two ways:\n\n***import foo.bar***\n\n***from foo import bar***",
      "metadata": {}
    },
    {
      "cell_type": "markdown",
      "source": "<html> <h3 style=\"font-style:italic; color:#FF0000;\"> Try Out: Print an alphabetically sorted list of all functions in the re module, which contain the word find.</h3> </html>",
      "metadata": {}
    },
    {
      "cell_type": "code",
      "source": "import re\n\n# Your code goes here",
      "metadata": {},
      "execution_count": null,
      "outputs": []
    },
    {
      "cell_type": "markdown",
      "source": "## Python Scripts \n\nPython programs can be written and saved using \".py\" file extension. You can run the programs using the bash command\n***python <python_scriptname>.py***\n\nCheck out the following python script file!",
      "metadata": {}
    },
    {
      "cell_type": "code",
      "source": "",
      "metadata": {},
      "execution_count": null,
      "outputs": []
    },
    {
      "cell_type": "markdown",
      "source": "<html> <h3 style=\"font-style:italic; color:#FF0000;\"> Try Out: Write and execute a complete python Program.</h3></html>\n\n***You are driving a little too fast, and a police officer stops you. Write a simple function (even module) to return one of 3 possible results: \"No ticket\", \"Small ticket\", or \"Big Ticket\".***\n    \n  ***If your speed is 60 or less, the result is \"No Ticket\". If speed is between 61 \n  and 80 inclusive, the result is \"Small Ticket\". If speed is 81 or more, the result is \"Big Ticket\". Unless it is your birthday (encoded as a boolean value in the parameters of the function) -- on your birthday, your speed can be 5 higher in all cases.***\n  \n  ***Write a python code to check output for different input combinations to this function.***\n   ",
      "metadata": {}
    },
    {
      "cell_type": "code",
      "source": "def caught_speeding(speed, is_birthday):\n    pass",
      "metadata": {
        "collapsed": true,
        "jupyter": {
          "outputs_hidden": true
        }
      },
      "execution_count": 36,
      "outputs": []
    },
    {
      "cell_type": "code",
      "source": "caught_speeding(81,True)",
      "metadata": {},
      "execution_count": 42,
      "outputs": [
        {
          "execution_count": 42,
          "output_type": "execute_result",
          "data": {
            "text/plain": [
              "'Small Ticket'"
            ]
          },
          "metadata": {}
        }
      ]
    },
    {
      "cell_type": "code",
      "source": "caught_speeding(81,False)",
      "metadata": {},
      "execution_count": 43,
      "outputs": [
        {
          "execution_count": 43,
          "output_type": "execute_result",
          "data": {
            "text/plain": [
              "'Big Ticket'"
            ]
          },
          "metadata": {}
        }
      ]
    },
    {
      "cell_type": "code",
      "source": "# Write a complete program and try executing in Jupyter or \n# save as \".py\" script execute in bash!\n\n\n",
      "metadata": {},
      "execution_count": 64,
      "outputs": []
    }
  ]
}